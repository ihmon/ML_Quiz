{
  "nbformat": 4,
  "nbformat_minor": 0,
  "metadata": {
    "colab": {
      "name": "Python_Lecture_ML.ipynb",
      "provenance": [],
      "collapsed_sections": [
        "_aebCpH1Qbhf",
        "YdlWoN-ZgPFh",
        "apqWxB1tgbY4"
      ],
      "include_colab_link": true
    },
    "kernelspec": {
      "display_name": "Python 3",
      "name": "python3"
    }
  },
  "cells": [
    {
      "cell_type": "markdown",
      "metadata": {
        "id": "view-in-github",
        "colab_type": "text"
      },
      "source": [
        "<a href=\"https://colab.research.google.com/github/ihmon/ML_Quiz/blob/main/Python_Lecture_ML.ipynb\" target=\"_parent\"><img src=\"https://colab.research.google.com/assets/colab-badge.svg\" alt=\"Open In Colab\"/></a>"
      ]
    },
    {
      "cell_type": "markdown",
      "metadata": {
        "id": "un0YKfrKEpAn"
      },
      "source": [
        "#機械学習に(井元が)よく使うPythonの機能\n",
        "\n",
        "機械学習でよく使う、知ってなければならない基礎について説明する。\n",
        "ここでは次を学習する。\n",
        "*   Python, numpy, pandasの基礎\n",
        "*   ファイル操作\n",
        "*   グラフの書き方"
      ]
    },
    {
      "cell_type": "code",
      "metadata": {
        "id": "AEHqXsQkF8A3"
      },
      "source": [
        "import math\n",
        "import numpy as np\n",
        "import pandas as pd\n",
        "import pandas_profiling\n",
        "import pickle\n",
        "from IPython.core.debugger import Pdb   # Pdb().set_trace()"
      ],
      "execution_count": null,
      "outputs": []
    },
    {
      "cell_type": "code",
      "metadata": {
        "colab": {
          "base_uri": "https://localhost:8080/",
          "height": 69
        },
        "id": "IjeQnsS_qyqJ",
        "outputId": "6c7fd3cd-15ce-4dab-df9c-7bab7384c5c4"
      },
      "source": [
        "def funcTest(**wkdct):\n",
        "  lst1 = []\n",
        "  lst2 = []\n",
        "  strWk = ''\n",
        "  for k, v in wkdct.items():\n",
        "    lst1.append(k)\n",
        "    lst2.append(v)\n",
        "    if type(v) is str:\n",
        "      strValue = '\\\"' + str(v) + '\\\"'\n",
        "    else:\n",
        "      strValue = str(v)\n",
        "\n",
        "    strWk = strWk + str(k) + '= ' + strValue + ', '\n",
        "\n",
        "  return strWk\n",
        "\n",
        "\n",
        "  print(len(lst1))\n",
        "\n",
        "dct_1 = {'a': 100, 'b': 200, 'c': '300'}\n",
        "print(funcTest(**dct_1))\n",
        "\n",
        "'''\n",
        "for i in range(num_buckets):\n",
        "  for j in range(5):      \n",
        "    hash_table2[i].append(i*j)\n",
        "    print(i, hash_table2[i])\n",
        "'''\n"
      ],
      "execution_count": null,
      "outputs": [
        {
          "output_type": "stream",
          "text": [
            "a= 100, b= 200, c= \"300\", \n"
          ],
          "name": "stdout"
        },
        {
          "output_type": "execute_result",
          "data": {
            "application/vnd.google.colaboratory.intrinsic+json": {
              "type": "string"
            },
            "text/plain": [
              "'\\nfor i in range(num_buckets):\\n  for j in range(5):      \\n    hash_table2[i].append(i*j)\\n    print(i, hash_table2[i])\\n'"
            ]
          },
          "metadata": {
            "tags": []
          },
          "execution_count": 3
        }
      ]
    },
    {
      "cell_type": "markdown",
      "metadata": {
        "id": "_aebCpH1Qbhf"
      },
      "source": [
        "### Dictionary, Tuple基本操作"
      ]
    },
    {
      "cell_type": "code",
      "metadata": {
        "colab": {
          "base_uri": "https://localhost:8080/"
        },
        "id": "9OlIwl3kQas8",
        "outputId": "07e9739a-da6e-49c8-94cc-8a6c41fd7e21"
      },
      "source": [
        "# Dictionary型は、{key: value, key: value, ...}のような構成となる。\n",
        "# key、valuseともデータ型は問わず、要素ごとにデータ型が異なっていても構わない。\n",
        "# Tuple型は、(value, value, ...)のような構成となる。\n",
        "# valuseのデータ型は問わず、要素ごとにデータ型が異なっていても構わない。\n",
        "# ただし、定義後、要素の追加変更はできない。\n",
        "\n",
        "# tuple型の宣言\n",
        "tpl =  (1, 2, 'imoto')\n",
        "\n",
        "# dict型の宣言\n",
        "dic = {}\n",
        "# とか、\n",
        "dic = {1: tpl, 2: [10,20,30], '3': 300}\n",
        "\n",
        "print(dic[1])\n",
        "print(dic['3'])\n",
        "print(len(dic))   # keyの数\n",
        "\n",
        "# key自体を参照するには一旦list型に置き換えて取得する。\n",
        "lst = list(dic.keys())\n",
        "print(lst[0])"
      ],
      "execution_count": null,
      "outputs": [
        {
          "output_type": "stream",
          "text": [
            "(1, 2, 'imoto')\n",
            "300\n",
            "3\n",
            "1\n"
          ],
          "name": "stdout"
        }
      ]
    },
    {
      "cell_type": "code",
      "metadata": {
        "colab": {
          "base_uri": "https://localhost:8080/",
          "height": 236
        },
        "id": "gE5iVzhhhDzF",
        "outputId": "63ba7d12-c0d6-4fb7-8512-88c38ea3b61c"
      },
      "source": [
        "# ちなみに…\n",
        "# 　全Keyが文字列で良ければ、dict()メソッドで下記のようにも書ける。\n",
        "#   a, b, cは変数ではなく文字列（''で括らない）\n",
        "dic_ = dict(a=10, b=10, c=10)\n",
        "print(type(dic_))\n",
        "print(dic_['a'])\n",
        "print(dic_[a])     # ←これはエラー"
      ],
      "execution_count": null,
      "outputs": [
        {
          "output_type": "stream",
          "text": [
            "<class 'dict'>\n",
            "10\n"
          ],
          "name": "stdout"
        },
        {
          "output_type": "error",
          "ename": "NameError",
          "evalue": "ignored",
          "traceback": [
            "\u001b[0;31m---------------------------------------------------------------------------\u001b[0m",
            "\u001b[0;31mNameError\u001b[0m                                 Traceback (most recent call last)",
            "\u001b[0;32m<ipython-input-5-60cd86c6a49c>\u001b[0m in \u001b[0;36m<module>\u001b[0;34m()\u001b[0m\n\u001b[1;32m      5\u001b[0m \u001b[0mprint\u001b[0m\u001b[0;34m(\u001b[0m\u001b[0mtype\u001b[0m\u001b[0;34m(\u001b[0m\u001b[0mdic_\u001b[0m\u001b[0;34m)\u001b[0m\u001b[0;34m)\u001b[0m\u001b[0;34m\u001b[0m\u001b[0;34m\u001b[0m\u001b[0m\n\u001b[1;32m      6\u001b[0m \u001b[0mprint\u001b[0m\u001b[0;34m(\u001b[0m\u001b[0mdic_\u001b[0m\u001b[0;34m[\u001b[0m\u001b[0;34m'a'\u001b[0m\u001b[0;34m]\u001b[0m\u001b[0;34m)\u001b[0m\u001b[0;34m\u001b[0m\u001b[0;34m\u001b[0m\u001b[0m\n\u001b[0;32m----> 7\u001b[0;31m \u001b[0mprint\u001b[0m\u001b[0;34m(\u001b[0m\u001b[0mdic_\u001b[0m\u001b[0;34m[\u001b[0m\u001b[0ma\u001b[0m\u001b[0;34m]\u001b[0m\u001b[0;34m)\u001b[0m     \u001b[0;31m# ←これはエラー\u001b[0m\u001b[0;34m\u001b[0m\u001b[0;34m\u001b[0m\u001b[0m\n\u001b[0m",
            "\u001b[0;31mNameError\u001b[0m: name 'a' is not defined"
          ]
        }
      ]
    },
    {
      "cell_type": "code",
      "metadata": {
        "colab": {
          "base_uri": "https://localhost:8080/"
        },
        "id": "nFqxfQwEXmRz",
        "outputId": "d4bf1592-3df5-43f3-8c1f-874d4ff222dc"
      },
      "source": [
        "# Dictionary型を使うと普通の言語のように配列っぽい変数操作が可能となる。\n",
        "# int dic1[10] = {0, 1, 2, 3, 4, 5, 6, 7, 8, 9};\n",
        "\n",
        "dic1 = {i:i for i in range(10)}\n",
        "print(dic1)\n",
        "dic1[0] = 80\n",
        "print(dic1[0] * dic1[9])"
      ],
      "execution_count": null,
      "outputs": [
        {
          "output_type": "stream",
          "text": [
            "{0: 0, 1: 1, 2: 2, 3: 3, 4: 4, 5: 5, 6: 6, 7: 7, 8: 8, 9: 9}\n",
            "720\n"
          ],
          "name": "stdout"
        }
      ]
    },
    {
      "cell_type": "code",
      "metadata": {
        "colab": {
          "base_uri": "https://localhost:8080/"
        },
        "id": "V1g9EAWnawgz",
        "outputId": "600af66a-9e24-403d-cbb4-477d00e5f7b9"
      },
      "source": [
        "# Dictionaryに登録された全Keyを取得する。\n",
        "\n",
        "print(dic1.keys())\n",
        "lst_keys = list(dic1.keys())\n",
        "print(lst_keys)"
      ],
      "execution_count": null,
      "outputs": [
        {
          "output_type": "stream",
          "text": [
            "dict_keys([0, 1, 2, 3, 4, 5, 6, 7, 8, 9])\n",
            "[0, 1, 2, 3, 4, 5, 6, 7, 8, 9]\n"
          ],
          "name": "stdout"
        }
      ]
    },
    {
      "cell_type": "code",
      "metadata": {
        "id": "O1LH_8EDzCk9"
      },
      "source": [
        "# Dictionaryへ要素追加や上書き\n",
        "# 追加要素は最後尾に追加される\n",
        "\n",
        "dic1[10] = 100\n",
        "dic1[11] = 110\n",
        "\n",
        "print(dic1)"
      ],
      "execution_count": null,
      "outputs": []
    },
    {
      "cell_type": "code",
      "metadata": {
        "id": "pA1exV-hzxue"
      },
      "source": [
        "#  Dictionaryの要素削除\n",
        "\n",
        "# delコマンドで要素削除\n",
        "del dic1[10]\n",
        "print(dic1)\n",
        "\n",
        "# popは指定keyのvaluseを取得し、要素削除\n",
        "val = dic1.pop(11)\n",
        "print(val)\n",
        "print(dic1)\n"
      ],
      "execution_count": null,
      "outputs": []
    },
    {
      "cell_type": "code",
      "metadata": {
        "colab": {
          "base_uri": "https://localhost:8080/"
        },
        "id": "u2CZUyczQu11",
        "outputId": "98f32956-6fe5-426d-8336-cc3391da3e71"
      },
      "source": [
        "# DictionaryをPandasのDataframeに変換\n",
        "\n",
        "dic1 = {'key1': [1,2,3], 'key2': [4,5,6,7], 'key3': [8,9]}\n",
        "\n",
        "df = pd.DataFrame.from_dict(dic1, orient='index')\n",
        "# もしくは\n",
        "df = pd.DataFrame(dic1.values(), index=dic1.keys())\n",
        "\n",
        "# 行と列を入れ替え\n",
        "# df = pd.DataFrame.from_dict(dic1, orient='index').T\n",
        "# # もしくは\n",
        "# df = pd.DataFrame(dic1.values(), index=dic1.keys()).T\n",
        "\n",
        "print(df)"
      ],
      "execution_count": null,
      "outputs": [
        {
          "output_type": "stream",
          "text": [
            "      0  1    2    3\n",
            "key1  1  2  3.0  NaN\n",
            "key2  4  5  6.0  7.0\n",
            "key3  8  9  NaN  NaN\n"
          ],
          "name": "stdout"
        }
      ]
    },
    {
      "cell_type": "code",
      "metadata": {
        "id": "s8ODwtLRmScO",
        "colab": {
          "base_uri": "https://localhost:8080/"
        },
        "outputId": "a347022e-20e0-4068-d703-03429d763996"
      },
      "source": [
        "# 内包表記でvalueを絶対値に編集\n",
        "\n",
        "dct1 = {'PNo1524015': -0.317759801348072, 'C5111': -0.3160016260524994, 'TSts0x2000': -0.3103641328341127, \\\n",
        "        'C5240': -0.28666682458404097, 'Err12': -0.2866653395686386, 'Rlt3': -0.28248465309565707, 'C2637': -0.2600996372248456, \\\n",
        "        'C5013': -0.2497225642186972, 'C5010': -0.2497225642186972, 'C2673': -0.24840918576292947, 'MSts0': -0.2320492201340452, \\\n",
        "        'C2600': -0.16941699813923425, 'TSts0x10003009': -0.1297412442768635, 'Err3': -0.12448570321135795}\n",
        "\n",
        "dct_abs = {k:abs(v) for k, v in dct1.items()}\n",
        "print(dct1)\n",
        "print(dct_abs)\n",
        "lst = [v for k, v in dct1.items()]\n",
        "print(lst)"
      ],
      "execution_count": null,
      "outputs": [
        {
          "output_type": "stream",
          "text": [
            "{'PNo1524015': -0.317759801348072, 'C5111': -0.3160016260524994, 'TSts0x2000': -0.3103641328341127, 'C5240': -0.28666682458404097, 'Err12': -0.2866653395686386, 'Rlt3': -0.28248465309565707, 'C2637': -0.2600996372248456, 'C5013': -0.2497225642186972, 'C5010': -0.2497225642186972, 'C2673': -0.24840918576292947, 'MSts0': -0.2320492201340452, 'C2600': -0.16941699813923425, 'TSts0x10003009': -0.1297412442768635, 'Err3': -0.12448570321135795}\n",
            "{'PNo1524015': 0.317759801348072, 'C5111': 0.3160016260524994, 'TSts0x2000': 0.3103641328341127, 'C5240': 0.28666682458404097, 'Err12': 0.2866653395686386, 'Rlt3': 0.28248465309565707, 'C2637': 0.2600996372248456, 'C5013': 0.2497225642186972, 'C5010': 0.2497225642186972, 'C2673': 0.24840918576292947, 'MSts0': 0.2320492201340452, 'C2600': 0.16941699813923425, 'TSts0x10003009': 0.1297412442768635, 'Err3': 0.12448570321135795}\n",
            "[-0.317759801348072, -0.3160016260524994, -0.3103641328341127, -0.28666682458404097, -0.2866653395686386, -0.28248465309565707, -0.2600996372248456, -0.2497225642186972, -0.2497225642186972, -0.24840918576292947, -0.2320492201340452, -0.16941699813923425, -0.1297412442768635, -0.12448570321135795]\n"
          ],
          "name": "stdout"
        }
      ]
    },
    {
      "cell_type": "code",
      "metadata": {
        "id": "KNK7rqIbu_ZX"
      },
      "source": [
        "import csv\n",
        "\n",
        "# Dictonalyをcsvでファイル読書き\n",
        "with open('dct.csv', 'w') as f:  \n",
        "    writer = csv.writer(f)\n",
        "    for k, v in dct_abs.items():\n",
        "       writer.writerow([k, v])"
      ],
      "execution_count": null,
      "outputs": []
    },
    {
      "cell_type": "code",
      "metadata": {
        "id": "Wd2kj5a4oJdQ"
      },
      "source": [
        "# DictonalyをPickleでファイル読書き\n",
        "# List型でもarray型でもOK\n",
        "\n",
        "wkfilename =\"dict1.dictfile\"\n",
        "with open(wkfilename, 'wb') as f:   # Binaryで書出し\n",
        "    pickle.dump(dic1, f)\n",
        "\n",
        "with open(wkfilename, 'rb') as f:   # Binaryを読込み\n",
        "    dic2 = pickle.load(f)\n",
        "\n",
        "print(dic2)\n",
        "print(type(dic2))"
      ],
      "execution_count": null,
      "outputs": []
    },
    {
      "cell_type": "markdown",
      "metadata": {
        "id": "YdlWoN-ZgPFh"
      },
      "source": [
        "### List基本操作"
      ]
    },
    {
      "cell_type": "code",
      "metadata": {
        "colab": {
          "base_uri": "https://localhost:8080/"
        },
        "id": "d4jnMdRBEiAa",
        "outputId": "c81ddeff-4495-4c9b-e715-500f5feabd80"
      },
      "source": [
        "# list型の宣言\n",
        "# list likeな変数は宣言しないと怒られる。\n",
        "lst1 = list()\n",
        "\n",
        "# 代入\n",
        "lst0 = [0, 0, 0]\n",
        "lst1 = [1, 2, 3]\n",
        "lst2 = [[4, 5, 6], [7, 8, 9]]\n",
        "\n",
        "# 確認\n",
        "#print(type(lst1))\n",
        "#print(len(lst1))\n",
        "print(len(lst2))"
      ],
      "execution_count": null,
      "outputs": [
        {
          "output_type": "stream",
          "name": "stdout",
          "text": [
            "2\n"
          ]
        }
      ]
    },
    {
      "cell_type": "code",
      "metadata": {
        "id": "4I7LEmn4X-E0",
        "colab": {
          "base_uri": "https://localhost:8080/"
        },
        "outputId": "23b17f71-bae0-4ecb-f599-de939d58b24a"
      },
      "source": [
        "# 要素の追加\n",
        "lst0.append(0)\n",
        "print(lst0)\n",
        "lst0.append([0, 'zero'])\n",
        "print(lst0)"
      ],
      "execution_count": null,
      "outputs": [
        {
          "output_type": "stream",
          "name": "stdout",
          "text": [
            "[0, 0, 0, 0]\n",
            "[0, 0, 0, 0, [0, 'zero']]\n"
          ]
        }
      ]
    },
    {
      "cell_type": "code",
      "metadata": {
        "id": "4-YTzpCgF6HJ"
      },
      "source": [
        "# 演算\n",
        "#print(lst1 + lst2)\n",
        "print(lst1 * 2)"
      ],
      "execution_count": null,
      "outputs": []
    },
    {
      "cell_type": "code",
      "metadata": {
        "colab": {
          "base_uri": "https://localhost:8080/"
        },
        "id": "gRGifEeHHupM",
        "outputId": "142fc667-683d-458c-a18c-9f7672a42b0e"
      },
      "source": [
        "# mapによる要素の一括処理 1\n",
        "def calc_double(n):\n",
        "    return n * 2\n",
        "\n",
        "## map(関数かlambda式, イテラブル変数)\n",
        "## イテラブルコンテナ変数の要素が1個ずつ関数かLamda式で評価され、mapは１個ずつ出力する。\n",
        "## list()はそれらを1個のリストにまとめる。\n",
        "\n",
        "print(list(map(calc_double, lst1)))"
      ],
      "execution_count": null,
      "outputs": [
        {
          "output_type": "stream",
          "text": [
            "[2, 4, 6]\n"
          ],
          "name": "stdout"
        }
      ]
    },
    {
      "cell_type": "code",
      "metadata": {
        "colab": {
          "base_uri": "https://localhost:8080/"
        },
        "id": "HslSbTtO-Ju3",
        "outputId": "b57ff466-78a4-4e84-a3ee-4da09f849de8"
      },
      "source": [
        "# mapによる要素の一括処理 2\n",
        "print(list(map(lambda x: x * 2, lst1)))"
      ],
      "execution_count": null,
      "outputs": [
        {
          "output_type": "stream",
          "text": [
            "[2, 4, 6]\n"
          ],
          "name": "stdout"
        }
      ]
    },
    {
      "cell_type": "code",
      "metadata": {
        "id": "sYlLN_zfVaSy",
        "colab": {
          "base_uri": "https://localhost:8080/"
        },
        "outputId": "ec6bf636-cc92-4ae6-e93c-b2f3c30d6342"
      },
      "source": [
        "names = ['Alice', 'Bob', 'Charlie', 'Dick', 'Erick']\n",
        "ages = [24, 50, 18, 21, 60]\n",
        "\n",
        "print(list(map(lambda x: x[1], names)))\n",
        "# イテラブルコンテナ変数の各要素をx[?]で指定する。\n",
        "print(list(map(lambda x: str(x[1] + x[0]), names)))\n",
        "\n",
        "\n",
        "## zip(イテラブル変数, イテラブル変数)\n",
        "## ２つのイテラブルコンテナ変数それぞれの要素を先頭から１個ずつ引っ付けてタプルで１個ずつ出力する。\n",
        "## ここではそれらをlist()に渡して１つのリストにまとめておる。\n",
        "print(list(zip(names, ages)))\n",
        "\n",
        "# タプルを分解して表示\n",
        "for name, age in zip(names, ages):\n",
        "    print(name, age)"
      ],
      "execution_count": null,
      "outputs": [
        {
          "output_type": "stream",
          "name": "stdout",
          "text": [
            "['l', 'o', 'h', 'i', 'r']\n",
            "['lA', 'oB', 'hC', 'iD', 'rE']\n",
            "[('Alice', 24), ('Bob', 50), ('Charlie', 18), ('Dick', 21), ('Erick', 60)]\n",
            "Alice 24\n",
            "Bob 50\n",
            "Charlie 18\n",
            "Dick 21\n",
            "Erick 60\n"
          ]
        }
      ]
    },
    {
      "cell_type": "code",
      "metadata": {
        "id": "S0zS4zULcdza"
      },
      "source": [
        "## filter(関数かlambda式, イテラブル変数)\n",
        "## イテラブルコンテナ変数の要素1個ずつを関数かLamda式で評価し、Trueな要素を出力する。\n",
        "## list()はそれらを1個のリストにまとめる。\n",
        "print(list(filter(lambda x: x > 20, ages)))"
      ],
      "execution_count": null,
      "outputs": []
    },
    {
      "cell_type": "code",
      "metadata": {
        "colab": {
          "base_uri": "https://localhost:8080/"
        },
        "id": "VQ42nIunnQgr",
        "outputId": "e19ea5bc-c676-4ebe-ad0e-831ce8029026"
      },
      "source": [
        "## list中のlistの2番目の要素(TransID)を抜き出す\n",
        "lst_org = [['C5000 From64 To64 C2671 C2600 C2631 PNo1263101 C5150 C2630 PNo1263009 C2625 C6700 C2638 Err0', 912661377], \\\n",
        "           ['C2663 C2581 C2583 C2721 C2610 C2648 C5068', 912661244], \\\n",
        "           ['C2663 C2581 C2583 C2721 C2610 C2648 C5068 C2585 C2679 C2664 Rlt0 C2609 C2639 Err0', 912660917], \\\n",
        "           ['C2663 C2581 C2583 C2721 C2610 C2648 C5068 C2585 C2679 C2664 Rlt0 C2609 C2639 Err0 C2676 Rlt0 C2750 Hai0 TSts0xff Can0 MSts3 C2678 C2663 C2581', 912661207], \\\n",
        "           ['C2663 C2581 C2583 C2721 C2610 C2648 C5068 C2585 C2679 C2664 Rlt0 C2609 C2639 Err0 C2676 Rlt0 C2678', 906513714], \\\n",
        "           ['C2663 C2581', 912661257], \\\n",
        "           ['C2663 C2581 C2583 C2721 C2610 C2648 C5068 C2585 C2679 C2664 Rlt0 C2609 C2639 Err0', 912661042], \\\n",
        "           ['C2663 C2581 C2583 C2721 C2610 C2648 C5068 C2585 C2679 C2664 Rlt0 C2609 C2639 Err0 C2676 Rlt0 C2750 Hai0 TSts0xff Can0 MSts3 C2678 C2663 C2581 C2583 C2721 C2610 C2648 C5068 C2585 C2679 C2664 Rlt0 C2609 C2639 Err0', 912661018], \\\n",
        "           ['C2661 C2663 C2581 C2583 C2721 C2610 C2648', 912661173], \\\n",
        "           ['C2663 C2581 C2583 C2721 C2610 C2648 C5068', 912661238]]\n",
        "#print(list(map(lambda x: x[1], lst_org[:3])))\n",
        "print(list(map(lambda x: x[1], lst_org)))"
      ],
      "execution_count": null,
      "outputs": [
        {
          "output_type": "stream",
          "text": [
            "[912661377, 912661244, 912660917, 912661207, 906513714, 912661257, 912661042, 912661018, 912661173, 912661238]\n"
          ],
          "name": "stdout"
        }
      ]
    },
    {
      "cell_type": "code",
      "metadata": {
        "colab": {
          "base_uri": "https://localhost:8080/"
        },
        "id": "ksbVuJVBLniz",
        "outputId": "de458cb5-7297-4222-8616-11ceb1655771"
      },
      "source": [
        "lst0 = [\"A\", \"B\", \"C\", \"D\", \"E\"]\n",
        "lst1 = [(1, 0.9861944317817688), (0, 0.9858509302139282), (4, 0.9853654503822327), (2, 0.9852038025856018), (3, 0.9851693511009216)]\n",
        "lst2 = list(map(lambda x:x[1], lst1))\n",
        "print(lst2)\n",
        "# lst3 = list(lst0[i] for i in lst2)\n",
        "# print(lst3)"
      ],
      "execution_count": null,
      "outputs": [
        {
          "output_type": "stream",
          "text": [
            "[0.9861944317817688, 0.9858509302139282, 0.9853654503822327, 0.9852038025856018, 0.9851693511009216]\n"
          ],
          "name": "stdout"
        }
      ]
    },
    {
      "cell_type": "code",
      "metadata": {
        "id": "v4QgpHdAK9pg"
      },
      "source": [
        "## 二重リストの2番目のタプル要素を抜き出し、二重リストにする。\n",
        "\n",
        "lst1 = [[(0, .1), (1, .2), (2, .3)], [(0, .4), (1, .5), (2, .6)], [(0, .7), (1, .8), (2, .9)], [(0, 1.0), (1, 1.1), (2, 1.2)]]\n",
        "\n",
        "# ゴリゴリ鈍足処理\n",
        "anslst = []\n",
        "for i in range(len(lst1)):\n",
        "    templst = []\n",
        "    for j in range(len(lst1[0])):\n",
        "        templst.append(lst1[i][j][1])\n",
        "    \n",
        "    anslst.append(templst)\n",
        "\n",
        "print(anslst)   # [[0.1, 0.2, 0.3], [0.4, 0.5, 0.6], [0.7, 0.8, 0.9], [1.0, 1.1, 1.2]]  This is what i want.\n",
        "\n",
        "# map + lambda\n",
        "anslst = list(map(lambda x: list(map(lambda x: x[1], x)), lst1))\n",
        "print(anslst)   # [[0.1, 0.2, 0.3], [0.4, 0.5, 0.6], [0.7, 0.8, 0.9], [1.0, 1.1, 1.2]]  This is what i want.\n",
        "\n",
        "# list comprihension\n",
        "anslst = [[x[1] for x in t] for t in lst1]\n",
        "print(anslst)   # [[0.1, 0.2, 0.3], [0.4, 0.5, 0.6], [0.7, 0.8, 0.9], [1.0, 1.1, 1.2]]  This is what i want.\n"
      ],
      "execution_count": null,
      "outputs": []
    },
    {
      "cell_type": "code",
      "metadata": {
        "colab": {
          "base_uri": "https://localhost:8080/"
        },
        "id": "gC7dklBwi4lp",
        "outputId": "12ca38c4-b68d-4c7b-fbf6-2e2e38948377"
      },
      "source": [
        "lst11 = [1,2,3,4]\n",
        "lst22 = [5,6,7,8]\n",
        "lst33 = [lst11[i] + lst22[i] for i in range(4)]\n",
        "print(lst33)"
      ],
      "execution_count": null,
      "outputs": [
        {
          "output_type": "stream",
          "name": "stdout",
          "text": [
            "[6, 8, 10, 12]\n"
          ]
        }
      ]
    },
    {
      "cell_type": "code",
      "metadata": {
        "colab": {
          "base_uri": "https://localhost:8080/",
          "height": 356
        },
        "id": "bXb_oV0zimH1",
        "outputId": "95298710-f068-4375-e005-81bedd457da0"
      },
      "source": [
        "matrix = [[1, 2, 3], [4, 5, 6], [7, 8, 9], [10, 11, 12]]\n",
        "flat = [x for row in matrix for x in row]\n",
        "print(flat)\n",
        "\n",
        "## zip unpacking\n",
        "matrix = [[1,2,3,4], [5,6,7,8], [9,10,11,12]]\n",
        "sum = list([ sum( _ ) for _ in list(zip(*matrix))])\n",
        "print(sum)\n",
        "\n",
        "print(*matrix)   # アンパック\n",
        "# [1, 2, 3, 4] [5, 6, 7, 8] [9, 10, 11, 12]\n",
        "print(list(zip(*matrix)))   # ZIPでアンパックされた各リストの要素をタプルで返す。それをリストにしている\n",
        "# [(1, 5, 9), (2, 6, 10), (3, 7, 11), (4, 8, 12)]\n",
        "\n",
        "# 最初のlistの要素基準に残りを引き算する。\n",
        "l1 = [[403, 105], [403, 100], [403, 92], [403, 95], [403, 89]]\n",
        "diffelement1, diffelement2 = zip(*((abs(403 - x), abs(105 - y)) for x, y in l1[1:]))\n",
        "# or\n",
        "diffelement1, diffelement2 = zip(*((abs(l1[0][0] - x), abs(l1[0][1] - y)) for x, y in l1[1:]))"
      ],
      "execution_count": null,
      "outputs": [
        {
          "output_type": "stream",
          "name": "stdout",
          "text": [
            "[1, 2, 3, 4, 5, 6, 7, 8, 9, 10, 11, 12]\n"
          ]
        },
        {
          "output_type": "error",
          "ename": "TypeError",
          "evalue": "ignored",
          "traceback": [
            "\u001b[0;31m---------------------------------------------------------------------------\u001b[0m",
            "\u001b[0;31mTypeError\u001b[0m                                 Traceback (most recent call last)",
            "\u001b[0;32m<ipython-input-8-2eb606643856>\u001b[0m in \u001b[0;36m<module>\u001b[0;34m()\u001b[0m\n\u001b[1;32m      5\u001b[0m \u001b[0;34m\u001b[0m\u001b[0m\n\u001b[1;32m      6\u001b[0m \u001b[0mmatrix2\u001b[0m \u001b[0;34m=\u001b[0m \u001b[0;34m[\u001b[0m\u001b[0;34m[\u001b[0m\u001b[0;36m1\u001b[0m\u001b[0;34m,\u001b[0m\u001b[0;36m2\u001b[0m\u001b[0;34m,\u001b[0m\u001b[0;36m3\u001b[0m\u001b[0;34m,\u001b[0m\u001b[0;36m4\u001b[0m\u001b[0;34m]\u001b[0m\u001b[0;34m,\u001b[0m \u001b[0;34m[\u001b[0m\u001b[0;36m5\u001b[0m\u001b[0;34m,\u001b[0m\u001b[0;36m6\u001b[0m\u001b[0;34m,\u001b[0m\u001b[0;36m7\u001b[0m\u001b[0;34m,\u001b[0m\u001b[0;36m8\u001b[0m\u001b[0;34m]\u001b[0m\u001b[0;34m,\u001b[0m \u001b[0;34m[\u001b[0m\u001b[0;36m9\u001b[0m\u001b[0;34m,\u001b[0m\u001b[0;36m10\u001b[0m\u001b[0;34m,\u001b[0m\u001b[0;36m11\u001b[0m\u001b[0;34m,\u001b[0m\u001b[0;36m12\u001b[0m\u001b[0;34m]\u001b[0m\u001b[0;34m]\u001b[0m\u001b[0;34m\u001b[0m\u001b[0;34m\u001b[0m\u001b[0m\n\u001b[0;32m----> 7\u001b[0;31m \u001b[0msum\u001b[0m \u001b[0;34m=\u001b[0m \u001b[0mlist\u001b[0m\u001b[0;34m(\u001b[0m\u001b[0;34m[\u001b[0m \u001b[0msum\u001b[0m\u001b[0;34m(\u001b[0m \u001b[0m_\u001b[0m \u001b[0;34m)\u001b[0m \u001b[0;32mfor\u001b[0m \u001b[0m_\u001b[0m \u001b[0;32min\u001b[0m \u001b[0mlist\u001b[0m\u001b[0;34m(\u001b[0m\u001b[0mzip\u001b[0m\u001b[0;34m(\u001b[0m\u001b[0;34m*\u001b[0m\u001b[0mmatrix2\u001b[0m\u001b[0;34m)\u001b[0m\u001b[0;34m)\u001b[0m\u001b[0;34m]\u001b[0m\u001b[0;34m)\u001b[0m\u001b[0;34m\u001b[0m\u001b[0;34m\u001b[0m\u001b[0m\n\u001b[0m\u001b[1;32m      8\u001b[0m \u001b[0mprint\u001b[0m\u001b[0;34m(\u001b[0m\u001b[0msum\u001b[0m\u001b[0;34m)\u001b[0m\u001b[0;34m\u001b[0m\u001b[0;34m\u001b[0m\u001b[0m\n",
            "\u001b[0;32m<ipython-input-8-2eb606643856>\u001b[0m in \u001b[0;36m<listcomp>\u001b[0;34m(.0)\u001b[0m\n\u001b[1;32m      5\u001b[0m \u001b[0;34m\u001b[0m\u001b[0m\n\u001b[1;32m      6\u001b[0m \u001b[0mmatrix2\u001b[0m \u001b[0;34m=\u001b[0m \u001b[0;34m[\u001b[0m\u001b[0;34m[\u001b[0m\u001b[0;36m1\u001b[0m\u001b[0;34m,\u001b[0m\u001b[0;36m2\u001b[0m\u001b[0;34m,\u001b[0m\u001b[0;36m3\u001b[0m\u001b[0;34m,\u001b[0m\u001b[0;36m4\u001b[0m\u001b[0;34m]\u001b[0m\u001b[0;34m,\u001b[0m \u001b[0;34m[\u001b[0m\u001b[0;36m5\u001b[0m\u001b[0;34m,\u001b[0m\u001b[0;36m6\u001b[0m\u001b[0;34m,\u001b[0m\u001b[0;36m7\u001b[0m\u001b[0;34m,\u001b[0m\u001b[0;36m8\u001b[0m\u001b[0;34m]\u001b[0m\u001b[0;34m,\u001b[0m \u001b[0;34m[\u001b[0m\u001b[0;36m9\u001b[0m\u001b[0;34m,\u001b[0m\u001b[0;36m10\u001b[0m\u001b[0;34m,\u001b[0m\u001b[0;36m11\u001b[0m\u001b[0;34m,\u001b[0m\u001b[0;36m12\u001b[0m\u001b[0;34m]\u001b[0m\u001b[0;34m]\u001b[0m\u001b[0;34m\u001b[0m\u001b[0;34m\u001b[0m\u001b[0m\n\u001b[0;32m----> 7\u001b[0;31m \u001b[0msum\u001b[0m \u001b[0;34m=\u001b[0m \u001b[0mlist\u001b[0m\u001b[0;34m(\u001b[0m\u001b[0;34m[\u001b[0m \u001b[0msum\u001b[0m\u001b[0;34m(\u001b[0m \u001b[0m_\u001b[0m \u001b[0;34m)\u001b[0m \u001b[0;32mfor\u001b[0m \u001b[0m_\u001b[0m \u001b[0;32min\u001b[0m \u001b[0mlist\u001b[0m\u001b[0;34m(\u001b[0m\u001b[0mzip\u001b[0m\u001b[0;34m(\u001b[0m\u001b[0;34m*\u001b[0m\u001b[0mmatrix2\u001b[0m\u001b[0;34m)\u001b[0m\u001b[0;34m)\u001b[0m\u001b[0;34m]\u001b[0m\u001b[0;34m)\u001b[0m\u001b[0;34m\u001b[0m\u001b[0;34m\u001b[0m\u001b[0m\n\u001b[0m\u001b[1;32m      8\u001b[0m \u001b[0mprint\u001b[0m\u001b[0;34m(\u001b[0m\u001b[0msum\u001b[0m\u001b[0;34m)\u001b[0m\u001b[0;34m\u001b[0m\u001b[0;34m\u001b[0m\u001b[0m\n",
            "\u001b[0;31mTypeError\u001b[0m: 'list' object is not callable"
          ]
        }
      ]
    },
    {
      "cell_type": "code",
      "metadata": {
        "colab": {
          "base_uri": "https://localhost:8080/"
        },
        "id": "7SMquh_kXCya",
        "outputId": "0f52d13a-963e-45b1-b183-ad96017e8174"
      },
      "source": [
        "# 最大値、2番に大きな値の取得とそのindexの取得\n",
        "lst2 = [5, 5, 1, 2, 3]\n",
        "print(f'max value: {max(lst2)}')\n",
        "\n",
        "# setコンテナに入れると重複要素が自動的に除かれるのでこれなら汎用的に使える\n",
        "print(f'max value: {sorted(set(lst2))[-1]}')    # ソートして一番最後の値でもOK\n",
        "print(f'2nd value: {sorted(set(lst2))[-2]}')    # ソートすればn番目に大きな値が取れる\n",
        "\n",
        "# 要素の値が取れればindexは簡単\n",
        "val = sorted(set(lst2))[-1]\n",
        "print(f'max index: {lst2.index(val)}')"
      ],
      "execution_count": null,
      "outputs": [
        {
          "output_type": "stream",
          "text": [
            "max value: 5\n",
            "max value: 5\n",
            "2nd value: 3\n",
            "max index: 0\n"
          ],
          "name": "stdout"
        }
      ]
    },
    {
      "cell_type": "code",
      "metadata": {
        "colab": {
          "base_uri": "https://localhost:8080/"
        },
        "id": "iqIz-bRYJfj5",
        "outputId": "1b352d34-dcc5-4dee-a0c6-36e4e7d100ca"
      },
      "source": [
        "# スライス\n",
        "lst3 = list(range(10))\n",
        "#print(lst3)\n",
        "print(lst3[-1:])\n",
        "print(lst3[::-1])   # 順序入替え"
      ],
      "execution_count": null,
      "outputs": [
        {
          "output_type": "stream",
          "text": [
            "[9]\n",
            "[9, 8, 7, 6, 5, 4, 3, 2, 1, 0]\n"
          ],
          "name": "stdout"
        }
      ]
    },
    {
      "cell_type": "code",
      "metadata": {
        "colab": {
          "base_uri": "https://localhost:8080/"
        },
        "id": "R9-ZBWyiLgpu",
        "outputId": "dea99904-fea7-47dc-9e5b-c40b0652da7e"
      },
      "source": [
        "# list内包\n",
        "lst4 = list(math.sqrt(x) for x in range(10))\n",
        "print(lst4)"
      ],
      "execution_count": null,
      "outputs": [
        {
          "output_type": "stream",
          "text": [
            "[0.0, 1.0, 1.4142135623730951, 1.7320508075688772, 2.0, 2.23606797749979, 2.449489742783178, 2.6457513110645907, 2.8284271247461903, 3.0]\n"
          ],
          "name": "stdout"
        }
      ]
    },
    {
      "cell_type": "code",
      "metadata": {
        "colab": {
          "base_uri": "https://localhost:8080/"
        },
        "id": "FvVIkBSALVFb",
        "outputId": "7f51321e-775a-420c-fa36-d163c0300d1f"
      },
      "source": [
        "# 組み込み関数math.sqrt()をlambda式にすることも可能\n",
        "lst4 = list(map(lambda x: x**0.5, range(10)))\n",
        "print(lst4)"
      ],
      "execution_count": null,
      "outputs": [
        {
          "output_type": "stream",
          "text": [
            "[0.0, 1.0, 1.4142135623730951, 1.7320508075688772, 2.0, 2.23606797749979, 2.449489742783178, 2.6457513110645907, 2.8284271247461903, 3.0]\n"
          ],
          "name": "stdout"
        }
      ]
    },
    {
      "cell_type": "code",
      "metadata": {
        "id": "q3V4H5J7eovt"
      },
      "source": [
        "# 0 padding\n",
        "lst1 = [54, 55, 56, 57, 1, 0, 0]\n",
        "max_len = 10\n",
        "lst0 = [0]*max_len\n",
        "lst1 = lst1 + lst0\n",
        "\n",
        "# list要素を比較　1以上か未満かでマスクする。\n",
        "lst2 = [i > 0 for i in lst1]        # [True, True, True, True, True, False, False]\n",
        "lst2 = [int(i > 0) for i in lst1]   # [1, 1, 1, 1, 1, 0, 0]\n",
        "print(lst2)\n",
        "\n",
        "# numpyだと array同士の比較\n",
        "arr1 = np.array(lst1)\n",
        "arr0 = np.zeros(len(lst1))\n",
        "arr2 = (arr1 > arr0).astype(np.int32)\n",
        "print(arr2)"
      ],
      "execution_count": null,
      "outputs": []
    },
    {
      "cell_type": "code",
      "metadata": {
        "id": "hlPcbBXThNtr"
      },
      "source": [
        "# 丸めるround\n",
        "lst = [0.987654321, 3.192232823417438e-05, 2000.7654321]\n",
        "\n",
        "#丸め込みは　round　を使用\n",
        "new_lst = [round(lst[n], 5) for n in range(len(lst ))]\n",
        "\n",
        "# [0.98765, 3e-05, 2000.76543]"
      ],
      "execution_count": null,
      "outputs": []
    },
    {
      "cell_type": "markdown",
      "metadata": {
        "id": "apqWxB1tgbY4"
      },
      "source": [
        "### Numpy基本操作"
      ]
    },
    {
      "cell_type": "code",
      "metadata": {
        "colab": {
          "base_uri": "https://localhost:8080/"
        },
        "id": "gfLPAQugM4Zi",
        "outputId": "6254e7dc-2259-4525-d2aa-36d27203d1b6"
      },
      "source": [
        "# Numpy\n",
        "# list likeな変数は宣言しないと怒られる。\n",
        "arr1 = []\n",
        "print(type(arr1))"
      ],
      "execution_count": null,
      "outputs": [
        {
          "output_type": "stream",
          "text": [
            "<class 'list'>\n"
          ],
          "name": "stdout"
        }
      ]
    },
    {
      "cell_type": "code",
      "metadata": {
        "colab": {
          "base_uri": "https://localhost:8080/"
        },
        "id": "hQzL96zeY_7F",
        "outputId": "f350b72a-7a34-4c64-fd62-043d1ffad7e4"
      },
      "source": [
        "lst1 = [1, 2, 3]\n",
        "lst2 = [[4, 5, 6], [7, 8, 9]]\n",
        "\n",
        "arr1 = np.array(lst1)\n",
        "print(arr1)\n",
        "print(arr1.shape)\n",
        "\n",
        "arr2 = np.array(lst2)\n",
        "print(arr2)\n",
        "print(arr2.shape)"
      ],
      "execution_count": null,
      "outputs": [
        {
          "output_type": "stream",
          "text": [
            "[1 2 3]\n",
            "(3,)\n",
            "[[4 5 6]\n",
            " [7 8 9]]\n",
            "(2, 3)\n"
          ],
          "name": "stdout"
        }
      ]
    },
    {
      "cell_type": "code",
      "metadata": {
        "colab": {
          "base_uri": "https://localhost:8080/"
        },
        "id": "Nyzeknwd6AmD",
        "outputId": "e19f0f9e-7e94-478a-a0f2-b1f225a41cc6"
      },
      "source": [
        "print(arr2[0][0])"
      ],
      "execution_count": null,
      "outputs": [
        {
          "output_type": "stream",
          "text": [
            "4\n"
          ],
          "name": "stdout"
        }
      ]
    },
    {
      "cell_type": "code",
      "metadata": {
        "colab": {
          "base_uri": "https://localhost:8080/"
        },
        "id": "r7VCx_Mswbro",
        "outputId": "40da04e5-2538-426c-eca6-8765ba7345cc"
      },
      "source": [
        "print(np.zeros((10,10)))\n",
        "\n",
        "# とかshapeで指定\n",
        "print(np.zeros((arr2.shape))))"
      ],
      "execution_count": null,
      "outputs": [
        {
          "output_type": "stream",
          "text": [
            "[[0. 0. 0. 0. 0. 0. 0. 0. 0. 0.]\n",
            " [0. 0. 0. 0. 0. 0. 0. 0. 0. 0.]\n",
            " [0. 0. 0. 0. 0. 0. 0. 0. 0. 0.]\n",
            " [0. 0. 0. 0. 0. 0. 0. 0. 0. 0.]\n",
            " [0. 0. 0. 0. 0. 0. 0. 0. 0. 0.]\n",
            " [0. 0. 0. 0. 0. 0. 0. 0. 0. 0.]\n",
            " [0. 0. 0. 0. 0. 0. 0. 0. 0. 0.]\n",
            " [0. 0. 0. 0. 0. 0. 0. 0. 0. 0.]\n",
            " [0. 0. 0. 0. 0. 0. 0. 0. 0. 0.]\n",
            " [0. 0. 0. 0. 0. 0. 0. 0. 0. 0.]]\n"
          ],
          "name": "stdout"
        }
      ]
    },
    {
      "cell_type": "code",
      "metadata": {
        "colab": {
          "base_uri": "https://localhost:8080/"
        },
        "id": "z9bjMQckZRrS",
        "outputId": "eebe74c9-8318-453e-f009-1d25ab64f06c"
      },
      "source": [
        "# 要素の追加\n",
        "arr3 = np.append(arr2, arr2)   # 平坦化されてしまう。\n",
        "print(arr3)\n",
        "print(arr3.shape)"
      ],
      "execution_count": null,
      "outputs": [
        {
          "output_type": "stream",
          "text": [
            "[4 5 6 7 8 9 4 5 6 7 8 9]\n",
            "(12,)\n"
          ],
          "name": "stdout"
        }
      ]
    },
    {
      "cell_type": "code",
      "metadata": {
        "colab": {
          "base_uri": "https://localhost:8080/"
        },
        "id": "-fQXnj9rd8F3",
        "outputId": "28589cc0-2068-4b1b-c597-9f9cea5a64e8"
      },
      "source": [
        "# 行列型のままにしておきたい。\n",
        "# 1. 元の3列に戻したいなら\n",
        "arr3 = arr3.reshape(arr3.shape[0]//3, 3)\n",
        "print(arr3)\n",
        "print(arr3.shape)"
      ],
      "execution_count": null,
      "outputs": [
        {
          "output_type": "stream",
          "text": [
            "[[4 5 6]\n",
            " [7 8 9]\n",
            " [4 5 6]\n",
            " [7 8 9]]\n",
            "(4, 3)\n"
          ],
          "name": "stdout"
        }
      ]
    },
    {
      "cell_type": "code",
      "metadata": {
        "colab": {
          "base_uri": "https://localhost:8080/"
        },
        "id": "_FRxDQNaeZY3",
        "outputId": "bcfbafc8-b0dd-4967-d0ef-42cc47e3c282"
      },
      "source": [
        "# 2. そもそものappendメソッドで指定する。\n",
        "# ただし、appendのarray型第一、第二引数の列次元数は一致してなければならない。\n",
        "arr3 = np.append(arr2, arr2, axis=0)\n",
        "print(arr3)\n",
        "print(arr3.shape)"
      ],
      "execution_count": null,
      "outputs": [
        {
          "output_type": "stream",
          "text": [
            "[[4 5 6]\n",
            " [7 8 9]\n",
            " [4 5 6]\n",
            " [7 8 9]]\n",
            "(4, 3)\n"
          ],
          "name": "stdout"
        }
      ]
    },
    {
      "cell_type": "code",
      "metadata": {
        "colab": {
          "base_uri": "https://localhost:8080/"
        },
        "id": "Exn3VIbRkTXW",
        "outputId": "8e7739e6-97ef-4bb0-e26d-0dbc5610790c"
      },
      "source": [
        "# 要素を見る\n",
        "#print(arr1[1])     #[1 2 3]のidex=1\n",
        "#print(arr2[1,2])   #[[4 5 6] [7 8 9]]のidex=1のidex=2（言い換えると2行目の3列目）\n",
        "print(arr2[:1])"
      ],
      "execution_count": null,
      "outputs": [
        {
          "output_type": "stream",
          "text": [
            "[[4 5 6]]\n"
          ],
          "name": "stdout"
        }
      ]
    },
    {
      "cell_type": "code",
      "metadata": {
        "colab": {
          "base_uri": "https://localhost:8080/"
        },
        "id": "UDpT_m0OkTn9",
        "outputId": "fa7dedc4-daf6-4db1-cc01-45ddc925c70d"
      },
      "source": [
        "# スライス\n",
        "# :, ::, :::の説明\n",
        "#print(arr3)\n",
        "print(arr3[0:2,:])"
      ],
      "execution_count": null,
      "outputs": [
        {
          "output_type": "stream",
          "text": [
            "[[4 5 6]\n",
            " [7 8 9]]\n"
          ],
          "name": "stdout"
        }
      ]
    },
    {
      "cell_type": "code",
      "metadata": {
        "colab": {
          "base_uri": "https://localhost:8080/"
        },
        "id": "Ya5C-C9Xg1xO",
        "outputId": "72cd7bf4-8096-4e43-f4ec-c12cc2885e29"
      },
      "source": [
        "# 列、行の削除\n",
        "#arr3 = np.arange(50).reshape(10,5)\n",
        "#print(arr3)\n",
        "# 2行目を削除\n",
        "arr3_del = np.delete(arr3, 1, axis=1)\n",
        "print(arr3_del)"
      ],
      "execution_count": null,
      "outputs": [
        {
          "output_type": "stream",
          "text": [
            "[[4 6]\n",
            " [7 9]\n",
            " [4 6]\n",
            " [7 9]]\n"
          ],
          "name": "stdout"
        }
      ]
    },
    {
      "cell_type": "code",
      "metadata": {
        "colab": {
          "base_uri": "https://localhost:8080/"
        },
        "id": "no0O4UL4AIA-",
        "outputId": "69bb055a-d925-4a02-d758-1b6f6afc7b27"
      },
      "source": [
        "# 1,3行目を削除　複数行の削除はリストで指定する。スライスは使えない。\n",
        "#arr3_del = np.delete(arr3, [1, 5], axis=0)\n",
        "#スライスで複数行を削除するときはslice()オブジェクトで指定する。 slice(1, 4, 2) = 1::2\n",
        "#arr3_del = np.delete(arr3, slice(1, 4), axis=0)\n",
        "arr3_del = np.delete(arr3, slice(1, None, 2), axis=0)\n",
        "print(arr3_del)"
      ],
      "execution_count": null,
      "outputs": [
        {
          "output_type": "stream",
          "text": [
            "[[4 5 6]\n",
            " [4 5 6]]\n"
          ],
          "name": "stdout"
        }
      ]
    },
    {
      "cell_type": "code",
      "metadata": {
        "colab": {
          "base_uri": "https://localhost:8080/"
        },
        "id": "5ungI-1ZftBt",
        "outputId": "d0142cca-5f6d-4fb4-9e1e-247de824c761"
      },
      "source": [
        "# 四則演算\n",
        "print(arr2 * 2)"
      ],
      "execution_count": null,
      "outputs": [
        {
          "output_type": "stream",
          "text": [
            "[[ 8 10 12]\n",
            " [14 16 18]]\n"
          ],
          "name": "stdout"
        }
      ]
    },
    {
      "cell_type": "code",
      "metadata": {
        "colab": {
          "base_uri": "https://localhost:8080/"
        },
        "id": "LZvIeBQGhVfV",
        "outputId": "e2da4cce-5b22-4200-f166-e4e408ebef9b"
      },
      "source": [
        "# 行列演算\n",
        "arr4 = np.array([[1, -1]])\n",
        "print(arr4)\n",
        "arr4_T = arr4.T    # このままでは掛けられないので、転置行列にする。\n",
        "print(arr4_T)\n",
        "arr4x2 = arr4_T * arr2\n",
        "print(arr4x2)"
      ],
      "execution_count": null,
      "outputs": [
        {
          "output_type": "stream",
          "text": [
            "[[ 1 -1]]\n",
            "[[ 1]\n",
            " [-1]]\n",
            "[[ 4  5  6]\n",
            " [-7 -8 -9]]\n"
          ],
          "name": "stdout"
        }
      ]
    },
    {
      "cell_type": "code",
      "metadata": {
        "colab": {
          "base_uri": "https://localhost:8080/"
        },
        "id": "5oCc4b4IewU9",
        "outputId": "7a728347-0dc5-486d-9f34-3400046ec33f"
      },
      "source": [
        "# マスク\n",
        "print(arr3)\n",
        "print(arr3 >= 6)\n",
        "print(arr3 * (arr3 >= 10))"
      ],
      "execution_count": null,
      "outputs": [
        {
          "output_type": "stream",
          "text": [
            "[[ 0  1  2  3  4]\n",
            " [ 5  6  7  8  9]\n",
            " [10 11 12 13 14]\n",
            " [15 16 17 18 19]\n",
            " [20 21 22 23 24]\n",
            " [25 26 27 28 29]\n",
            " [30 31 32 33 34]\n",
            " [35 36 37 38 39]\n",
            " [40 41 42 43 44]\n",
            " [45 46 47 48 49]]\n",
            "[[False False False False False]\n",
            " [False  True  True  True  True]\n",
            " [ True  True  True  True  True]\n",
            " [ True  True  True  True  True]\n",
            " [ True  True  True  True  True]\n",
            " [ True  True  True  True  True]\n",
            " [ True  True  True  True  True]\n",
            " [ True  True  True  True  True]\n",
            " [ True  True  True  True  True]\n",
            " [ True  True  True  True  True]]\n",
            "[[ 0  0  0  0  0]\n",
            " [ 0  0  0  0  0]\n",
            " [10 11 12 13 14]\n",
            " [15 16 17 18 19]\n",
            " [20 21 22 23 24]\n",
            " [25 26 27 28 29]\n",
            " [30 31 32 33 34]\n",
            " [35 36 37 38 39]\n",
            " [40 41 42 43 44]\n",
            " [45 46 47 48 49]]\n"
          ],
          "name": "stdout"
        }
      ]
    },
    {
      "cell_type": "code",
      "metadata": {
        "colab": {
          "base_uri": "https://localhost:8080/"
        },
        "id": "7nqtvEM0e3wD",
        "outputId": "0bc7d957-c347-42b7-ae09-21ddf69330e7"
      },
      "source": [
        "# 結合\n",
        "arr4_1 = np.arange(20).reshape(10,2)\n",
        "arr4_2 = np.arange(20,40).reshape(10,2)\n",
        "#print(arr4_2)\n",
        "#arr4_3 = np.hstack([arr4_1, arr4_2])\n",
        "#print(arr4_3)\n",
        "arr4_4 = np.vstack([arr4_1, arr4_2])\n",
        "print(arr4_4)"
      ],
      "execution_count": null,
      "outputs": [
        {
          "output_type": "stream",
          "text": [
            "[[ 0  1]\n",
            " [ 2  3]\n",
            " [ 4  5]\n",
            " [ 6  7]\n",
            " [ 8  9]\n",
            " [10 11]\n",
            " [12 13]\n",
            " [14 15]\n",
            " [16 17]\n",
            " [18 19]\n",
            " [20 21]\n",
            " [22 23]\n",
            " [24 25]\n",
            " [26 27]\n",
            " [28 29]\n",
            " [30 31]\n",
            " [32 33]\n",
            " [34 35]\n",
            " [36 37]\n",
            " [38 39]]\n"
          ],
          "name": "stdout"
        }
      ]
    },
    {
      "cell_type": "code",
      "metadata": {
        "id": "EHpNx_15GVm0"
      },
      "source": [
        "# 内包型でいったんlist型にするやりかた\n",
        "lst = [[x_new1[i][0], x_new1[i][1], y_new1[i], sco1[i]] for i in range(1000)]\n"
      ],
      "execution_count": null,
      "outputs": []
    },
    {
      "cell_type": "code",
      "metadata": {
        "colab": {
          "base_uri": "https://localhost:8080/"
        },
        "id": "R8PlyHmZrxQg",
        "outputId": "0da5aa67-07eb-4f01-be2e-bb6931256b72"
      },
      "source": [
        "# 次元の追加と削除\n",
        "arr5_org = np.arange(20).reshape(5,4)\n",
        "\n",
        "arr5_1 = np.expand_dims(arr5_org, axis=0)  # axisは追加する列の位置\n",
        "print(f'Shape: {arr5_1.shape}')\n",
        "print(arr5_1)\n",
        "\n",
        "# 以下でも追加できるが、5,4を決め打ちしないといけないので使いにくい\n",
        "arr5_2 = arr5_org.reshape(1,5,4)\n",
        "print(f'Shape: {arr5_2.shape}')\n",
        "print(arr5_2)\n",
        "\n",
        "# shapeが1の次元が一度に削除される。\n",
        "arr5_3 = np.squeeze(arr5_1)\n",
        "print(f'Shape: {arr5_3.shape}')\n",
        "print(arr5_3)"
      ],
      "execution_count": null,
      "outputs": [
        {
          "output_type": "stream",
          "text": [
            "Shape: (1, 5, 4)\n",
            "[[[ 0  1  2  3]\n",
            "  [ 4  5  6  7]\n",
            "  [ 8  9 10 11]\n",
            "  [12 13 14 15]\n",
            "  [16 17 18 19]]]\n",
            "Shape: (1, 5, 4)\n",
            "[[[ 0  1  2  3]\n",
            "  [ 4  5  6  7]\n",
            "  [ 8  9 10 11]\n",
            "  [12 13 14 15]\n",
            "  [16 17 18 19]]]\n",
            "Shape: (5, 4)\n",
            "[[ 0  1  2  3]\n",
            " [ 4  5  6  7]\n",
            " [ 8  9 10 11]\n",
            " [12 13 14 15]\n",
            " [16 17 18 19]]\n"
          ],
          "name": "stdout"
        }
      ]
    },
    {
      "cell_type": "code",
      "metadata": {
        "colab": {
          "base_uri": "https://localhost:8080/"
        },
        "id": "6pUumDxOdI07",
        "outputId": "78e0554d-a7ce-4d9e-f13d-e606caa058dd"
      },
      "source": [
        "from numpy import random\n",
        "\n",
        "# 乱数\n",
        "# random.seed(10)\n",
        "rnd = random.rand()\n",
        "\n",
        "arr_rnd = random.rand(2, 3)\n",
        "print(arr_rnd)\n",
        "arr_rnd = random.rand(2)\n",
        "print(arr_rnd)\n",
        "\n",
        "# 整数の一様乱数\n",
        "rnd = np.random.randint(0, 20, (4, 6))\n",
        "print(rnd)\n",
        "rnd = np.random.randint(0, 20, (4,))\n",
        "print(rnd)\n",
        "\n",
        "# 正規分布に沿った乱数\n",
        "# normal(平均, 標準偏差, サイズ)\n",
        "arr_nmlrnd = random.normal(-2, 0.5, (2, 3))\n",
        "print(arr_nmlrnd)"
      ],
      "execution_count": null,
      "outputs": [
        {
          "output_type": "stream",
          "text": [
            "[[0.82690236 0.67978573 0.26942989]\n",
            " [0.95691278 0.98339226 0.29677764]]\n",
            "[0.61948645 0.17089122]\n",
            "[[ 5 14 15 15 10 19]\n",
            " [ 2  0 13  3  8  4]\n",
            " [ 7 17  0 15  5 15]\n",
            " [ 1 15 15 18 18  7]]\n",
            "[ 4 11 10 13]\n",
            "[[-2.26215117 -1.66209142 -2.21831274]\n",
            " [-2.4326167  -1.85997551 -2.42168738]]\n"
          ],
          "name": "stdout"
        }
      ]
    },
    {
      "cell_type": "code",
      "metadata": {
        "colab": {
          "base_uri": "https://localhost:8080/"
        },
        "id": "gKi4DA1o6AH4",
        "outputId": "ac9a279d-afc2-4dca-a392-1837af9bc868"
      },
      "source": [
        "# シャッフル\n",
        "arr = np.array(range(32)).reshape(8, 4)\n",
        "print(arr)\n",
        "random.seed(30)\n",
        "random.shuffle(arr)\n",
        "print(arr)"
      ],
      "execution_count": null,
      "outputs": [
        {
          "output_type": "stream",
          "text": [
            "[[ 0  1  2  3]\n",
            " [ 4  5  6  7]\n",
            " [ 8  9 10 11]\n",
            " [12 13 14 15]\n",
            " [16 17 18 19]\n",
            " [20 21 22 23]\n",
            " [24 25 26 27]\n",
            " [28 29 30 31]]\n",
            "[[12 13 14 15]\n",
            " [ 4  5  6  7]\n",
            " [ 8  9 10 11]\n",
            " [ 0  1  2  3]\n",
            " [16 17 18 19]\n",
            " [24 25 26 27]\n",
            " [28 29 30 31]\n",
            " [20 21 22 23]]\n"
          ],
          "name": "stdout"
        }
      ]
    },
    {
      "cell_type": "code",
      "metadata": {
        "colab": {
          "base_uri": "https://localhost:8080/"
        },
        "id": "odrwLv92eUFq",
        "outputId": "b06af704-58bf-41ef-a75f-0205251ab340"
      },
      "source": [
        "# キャスト\n",
        "arr_rnd = arr_rnd *100\n",
        "#arr_rnd1 = arr_rnd.astype(np.int32)\n",
        "#print(arr_rnd1)\n",
        "\n",
        "arr_rnd2 = np.array(arr_rnd, dtype = np.int32)\n",
        "arr_rnd2 = np.array(arr_rnd, dtype = 'int32')\n",
        "print(arr_rnd2)"
      ],
      "execution_count": null,
      "outputs": [
        {
          "output_type": "stream",
          "text": [
            "[[ 207 6336 7488]\n",
            " [4985 2247 1980]]\n"
          ],
          "name": "stdout"
        }
      ]
    },
    {
      "cell_type": "code",
      "metadata": {
        "colab": {
          "base_uri": "https://localhost:8080/"
        },
        "id": "ffjomvSGfEyi",
        "outputId": "be48f923-14b9-43dc-8a0d-a17990ae1be8"
      },
      "source": [
        "# ソート（任意の1列をソートし、他の列はその入替に追従して入れ替わる）\n",
        "arr = np.array([[20, 3, 100, -1], [1, 200, 30, -2], [300, 10, 2, -3]])\n",
        "print(f'origin:\\n {arr}')\n",
        "\n",
        "clm_num = 1\n",
        "arr_sorted = arr[np.argsort(arr[:, clm_num])]\n",
        "print(f'昇順:\\n {arr_sorted}')\n",
        "\n",
        "clm_num = 1\n",
        "arr_sorted = arr[np.argsort(arr[:, clm_num])[::-1]]\n",
        "print(f'降順:\\n {arr_sorted}')\n"
      ],
      "execution_count": null,
      "outputs": [
        {
          "output_type": "stream",
          "name": "stdout",
          "text": [
            "origin:\n",
            " [[ 20   3 100  -1]\n",
            " [  1 200  30  -2]\n",
            " [300  10   2  -3]]\n",
            "昇順:\n",
            " [[ 20   3 100  -1]\n",
            " [300  10   2  -3]\n",
            " [  1 200  30  -2]]\n",
            "降順:\n",
            " [[  1 200  30  -2]\n",
            " [300  10   2  -3]\n",
            " [ 20   3 100  -1]]\n"
          ]
        }
      ]
    },
    {
      "cell_type": "code",
      "metadata": {
        "colab": {
          "base_uri": "https://localhost:8080/"
        },
        "id": "Ju0oPmyhZXeN",
        "outputId": "0e216632-36c9-477c-ad84-94f7ee842b68"
      },
      "source": [
        "# ソート（任意の1行をソートし、他の行はその入替に追従して入れ替わる）\n",
        "arr = np.array([[20, 3, 100, -1], [1, 200, 30, -2], [300, 10, 2, -3]])\n",
        "print(f'origin:\\n {arr}')\n",
        "\n",
        "clm_row = 1\n",
        "arr_sorted = arr[:, np.argsort(arr[clm_row])]\n",
        "print(f'昇順:\\n {arr_sorted}')\n",
        "\n",
        "clm_row = 1\n",
        "arr_sorted = arr[:, np.argsort(arr[clm_row])[::-1]]\n",
        "print(f'降順:\\n {arr_sorted}')"
      ],
      "execution_count": null,
      "outputs": [
        {
          "output_type": "stream",
          "name": "stdout",
          "text": [
            "origin:\n",
            " [[ 20   3 100  -1]\n",
            " [  1 200  30  -2]\n",
            " [300  10   2  -3]]\n",
            "昇順:\n",
            " [[ -1  20 100   3]\n",
            " [ -2   1  30 200]\n",
            " [ -3 300   2  10]]\n",
            "降順:\n",
            " [[  3 100  20  -1]\n",
            " [200  30   1  -2]\n",
            " [ 10   2 300  -3]]\n"
          ]
        }
      ]
    },
    {
      "cell_type": "markdown",
      "metadata": {
        "id": "ifHJu6BNyzSW"
      },
      "source": [
        "###Pandas基本操作\n",
        "行・列の指定方法yがわかりやすい\n",
        "https://www.yutaka-note.com/entry/pandas_access\n"
      ]
    },
    {
      "cell_type": "code",
      "metadata": {
        "colab": {
          "base_uri": "https://localhost:8080/"
        },
        "id": "pfI7-b3PyyMt",
        "outputId": "3c7bfcc3-dcaf-4c34-b9a5-29aecfd75cd2"
      },
      "source": [
        "lst_org = [[10,20,30,40],[11,21,31,41],[12,22,32,42],[13,23,33,43],[14,24,34,44]]\n",
        "df_1 = pd.DataFrame(lst_org, columns=[\"A\", \"B\", \"C\", \"D\"])\n",
        "print(df_1)\n",
        "print(df_1.describe())"
      ],
      "execution_count": null,
      "outputs": [
        {
          "output_type": "stream",
          "name": "stdout",
          "text": [
            "    A   B   C   D\n",
            "0  10  20  30  40\n",
            "1  11  21  31  41\n",
            "2  12  22  32  42\n",
            "3  13  23  33  43\n",
            "4  14  24  34  44\n",
            "               A          B          C          D\n",
            "count   5.000000   5.000000   5.000000   5.000000\n",
            "mean   12.000000  22.000000  32.000000  42.000000\n",
            "std     1.581139   1.581139   1.581139   1.581139\n",
            "min    10.000000  20.000000  30.000000  40.000000\n",
            "25%    11.000000  21.000000  31.000000  41.000000\n",
            "50%    12.000000  22.000000  32.000000  42.000000\n",
            "75%    13.000000  23.000000  33.000000  43.000000\n",
            "max    14.000000  24.000000  34.000000  44.000000\n"
          ]
        }
      ]
    },
    {
      "cell_type": "code",
      "metadata": {
        "colab": {
          "base_uri": "https://localhost:8080/"
        },
        "id": "_WREoVYEha6z",
        "outputId": "6fbc0d36-2a09-48d3-8e6f-406b1b0da916"
      },
      "source": [
        "df_1['A'] = df_1['A'].replace(10,0)\n",
        "df_1['A']"
      ],
      "execution_count": null,
      "outputs": [
        {
          "output_type": "execute_result",
          "data": {
            "text/plain": [
              "0     0\n",
              "1    11\n",
              "2    12\n",
              "3    13\n",
              "4    14\n",
              "Name: A, dtype: int64"
            ]
          },
          "metadata": {},
          "execution_count": 5
        }
      ]
    },
    {
      "cell_type": "code",
      "metadata": {
        "colab": {
          "base_uri": "https://localhost:8080/"
        },
        "id": "H2JkwXlRIPFG",
        "outputId": "6dcd6eaa-8a98-468c-fc49-f08166bc84b2"
      },
      "source": [
        "# 1行の参照\n",
        "# rtn_1 = df_1.iloc[1]\n",
        "# print(rtn_1)\n",
        "# print(type(rtn_1))  # 1行を指定したのでSeries形で返る\n",
        "# print(list(rtn_1))  \n",
        "# print(np.array(rtn_1))  \n",
        "\n",
        "# # n行の参照\n",
        "# rtn_2 = df_1.iloc[:3]  # スライサの使い方はpython流\n",
        "# print(rtn_2)\n",
        "# print(type(rtn_2))  # n行を指定したのでDataFrame型で返る\n",
        "# print(np.array(rtn_2)) # listにはキャストできない\n",
        "\n",
        "# 離れた2行の参照\n",
        "rtn_2 = df_1.iloc[[0, 2]]  # []にlist型で指定\n",
        "print(rtn_2)\n",
        "print(type(rtn_2))  # 2行を指定したのでDataFrame型で返る\n",
        "print(np.array(rtn_2)) # listにはキャストできない"
      ],
      "execution_count": null,
      "outputs": [
        {
          "output_type": "stream",
          "text": [
            "    A   B   C   D\n",
            "0  10  20  30  40\n",
            "2  12  22  32  42\n",
            "<class 'pandas.core.frame.DataFrame'>\n",
            "[[10 20 30 40]\n",
            " [12 22 32 42]]\n"
          ],
          "name": "stdout"
        }
      ]
    },
    {
      "cell_type": "code",
      "metadata": {
        "colab": {
          "base_uri": "https://localhost:8080/"
        },
        "id": "IlDQrF_OJtpo",
        "outputId": "84264ff7-5844-464b-d45c-7852c81b8ffd"
      },
      "source": [
        "# 列の参照\n",
        "rtn_1 = df_1[\"A\"] # []内に直接指定　下でもOK\n",
        "rtn_1 = df_1.A    # 気持ち悪いけど\n",
        "print(rtn_1)\n",
        "print(type(rtn_1))  # 1列を指定したのでSeries形で返る\n",
        "\n",
        "# n列の参照\n",
        "rtn_2 = df_1[[\"A\",\"D\",\"C\"]] # []にlist型で指定\n",
        "print(rtn_2)\n",
        "print(type(rtn_2))  # n列を指定したのでDataFrame型で返る\n",
        "\n",
        "# n列の参照（これも同じ）\n",
        "rtn_2 = df_1.loc[:,[\"A\",\"D\",\"C\"]]   # 全行をlocで指定\n",
        "print(rtn_2)\n",
        "\n",
        "rtn_2 = df_1[[\"A\"]]  # 因みに、1列しか指定してないがlistなので戻りはDataFrame型\n",
        "print(type(rtn_2))\n"
      ],
      "execution_count": null,
      "outputs": [
        {
          "output_type": "stream",
          "name": "stdout",
          "text": [
            "0    10\n",
            "1    11\n",
            "2    12\n",
            "3    13\n",
            "4    14\n",
            "Name: A, dtype: int64\n",
            "<class 'pandas.core.series.Series'>\n",
            "    A   D   C\n",
            "0  10  40  30\n",
            "1  11  41  31\n",
            "2  12  42  32\n",
            "3  13  43  33\n",
            "4  14  44  34\n",
            "<class 'pandas.core.frame.DataFrame'>\n",
            "<class 'pandas.core.frame.DataFrame'>\n",
            "    A   D   C\n",
            "0  10  40  30\n",
            "1  11  41  31\n",
            "2  12  42  32\n",
            "3  13  43  33\n",
            "4  14  44  34\n"
          ]
        }
      ]
    },
    {
      "cell_type": "code",
      "metadata": {
        "colab": {
          "base_uri": "https://localhost:8080/"
        },
        "id": "rzEq4vScNd_O",
        "outputId": "fa08d87f-c841-443d-c7c2-e166ab1b6a39"
      },
      "source": [
        "# index番号で1列参照\n",
        "rtn_1 = df_1.iloc[:,1]  # 全行について、1列目\n",
        "print(type(rtn_1))  # 1列を指定したのでSeries型で返る\n",
        "\n",
        "# index番号でn列参照\n",
        "rtn_1 = df_1.iloc[:,:4]  # 全行について、n列\n",
        "print(type(rtn_1))  #  n列を指定したのでDataFrame型で返る\n",
        "print(rtn_1)"
      ],
      "execution_count": null,
      "outputs": [
        {
          "output_type": "stream",
          "text": [
            "<class 'pandas.core.series.Series'>\n",
            "<class 'pandas.core.frame.DataFrame'>\n",
            "    A   B   C   D\n",
            "0  10  20  30  40\n",
            "1  11  21  31  41\n",
            "2  12  22  32  42\n",
            "3  13  23  33  43\n",
            "4  14  24  34  44\n"
          ],
          "name": "stdout"
        }
      ]
    },
    {
      "cell_type": "code",
      "metadata": {
        "colab": {
          "base_uri": "https://localhost:8080/"
        },
        "id": "T0Q625FgRxN9",
        "outputId": "f209ed1f-f180-42da-8ba9-471d201a32d9"
      },
      "source": [
        "lst = []\n",
        "# index番号で1列参照\n",
        "rtn_1 = df_1.iloc[:,1]  # 全行について、1列目\n",
        "lst.append(list(rtn_1))  # 1列を指定したのでSeries型で返る\n",
        "\n",
        "rtn_1 = df_1.iloc[:,3]  # 全行について、1列目\n",
        "lst.append(list(rtn_1))  # 1列を指定したのでSeries型で返る\n",
        "\n",
        "print(lst)\n",
        "arr = np.array(lst).T\n",
        "print(arr)"
      ],
      "execution_count": null,
      "outputs": [
        {
          "output_type": "stream",
          "text": [
            "[[20, 21, 22, 23, 24], [40, 41, 42, 43, 44]]\n",
            "[[20 40]\n",
            " [21 41]\n",
            " [22 42]\n",
            " [23 43]\n",
            " [24 44]]\n"
          ],
          "name": "stdout"
        }
      ]
    },
    {
      "cell_type": "code",
      "metadata": {
        "colab": {
          "base_uri": "https://localhost:8080/"
        },
        "id": "LxHZr4nnOpff",
        "outputId": "0ad01165-ac3f-4f3f-89af-08174861ce5d"
      },
      "source": [
        "# 要素の参照（1個だけ）\n",
        "rtn_1 = df_1.iat[1,1]   # loc, ilocよりもat, iatの方が高速\n",
        "print(type(rtn_1))\n",
        "print(rtn_1)\n",
        "\n",
        "rtn_1 = df_1.at[1,\"B\"]   # loc, ilocよりもat, iatの方が高速\n",
        "print(type(rtn_1))\n",
        "print(rtn_1)"
      ],
      "execution_count": null,
      "outputs": [
        {
          "output_type": "stream",
          "text": [
            "<class 'numpy.int64'>\n",
            "21\n",
            "<class 'numpy.int64'>\n",
            "21\n"
          ],
          "name": "stdout"
        }
      ]
    },
    {
      "cell_type": "code",
      "metadata": {
        "colab": {
          "base_uri": "https://localhost:8080/"
        },
        "id": "jV80S84Lsi2n",
        "outputId": "17f824f8-897b-4bd2-8b8f-8135c6af0cd9"
      },
      "source": [
        "# 列指定で最大値など\n",
        "print(df_1['A'].max())\n",
        "print(df_1[['A','B']].max())\n",
        "\n",
        "# 列指定でソート\n",
        "rtn_1 = df_1.sort_values(by=\"A\", ascending=False)\n",
        "print(rtn_1)"
      ],
      "execution_count": null,
      "outputs": [
        {
          "output_type": "stream",
          "name": "stdout",
          "text": [
            "14\n",
            "A    14\n",
            "B    24\n",
            "dtype: int64\n",
            "    A   B   C   D\n",
            "4  14  24  34  44\n",
            "3  13  23  33  43\n",
            "2  12  22  32  42\n",
            "1  11  21  31  41\n",
            "0  10  20  30  40\n"
          ]
        }
      ]
    },
    {
      "cell_type": "code",
      "metadata": {
        "colab": {
          "base_uri": "https://localhost:8080/"
        },
        "id": "yJRT87Rw4lfe",
        "outputId": "6283de47-f52f-4393-f45f-e928affabf89"
      },
      "source": [
        "# pdの複製\n",
        "df_1 = pd.DataFrame(lst_org, columns=[\"A\", \"B\", \"C\", \"D\"])\n",
        "df_2 = df_1[[\"A\", \"D\"]]   # 指定列のコピー\n",
        "\n",
        "# 新しい列に複製\n",
        "# df_2[\"NEW\"] = df_1[\"C\"]   # これは警告が出る。\n",
        "df_2.loc[:, \"NEW\"] = list([30, 31, 32, 33, 34])"
      ],
      "execution_count": null,
      "outputs": [
        {
          "output_type": "stream",
          "name": "stderr",
          "text": [
            "/usr/local/lib/python3.7/dist-packages/pandas/core/indexing.py:1596: SettingWithCopyWarning: \n",
            "A value is trying to be set on a copy of a slice from a DataFrame.\n",
            "Try using .loc[row_indexer,col_indexer] = value instead\n",
            "\n",
            "See the caveats in the documentation: https://pandas.pydata.org/pandas-docs/stable/user_guide/indexing.html#returning-a-view-versus-a-copy\n",
            "  self.obj[key] = _infer_fill_value(value)\n",
            "/usr/local/lib/python3.7/dist-packages/pandas/core/indexing.py:1743: SettingWithCopyWarning: \n",
            "A value is trying to be set on a copy of a slice from a DataFrame.\n",
            "Try using .loc[row_indexer,col_indexer] = value instead\n",
            "\n",
            "See the caveats in the documentation: https://pandas.pydata.org/pandas-docs/stable/user_guide/indexing.html#returning-a-view-versus-a-copy\n",
            "  isetter(ilocs[0], value)\n"
          ]
        }
      ]
    },
    {
      "cell_type": "code",
      "metadata": {
        "colab": {
          "base_uri": "https://localhost:8080/"
        },
        "id": "s7VWj_Em5OKo",
        "outputId": "f760c866-c976-438e-b666-63e0f9e7c1f5"
      },
      "source": [
        "df_2\n",
        "print(list(df_1[\"C\"]))"
      ],
      "execution_count": null,
      "outputs": [
        {
          "output_type": "stream",
          "name": "stdout",
          "text": [
            "[30, 31, 32, 33, 34]\n"
          ]
        }
      ]
    },
    {
      "cell_type": "code",
      "metadata": {
        "colab": {
          "base_uri": "https://localhost:8080/"
        },
        "id": "Xp_XdB2-Pbm5",
        "outputId": "96d13487-ed0b-493c-eb3d-82bed60ef81e"
      },
      "source": [
        "# 辞書型を新しい行として挿入\n",
        "dct1 = {0: 0.48484848484848486, 1: 0.2727272727272727, 2: 0.30303030303030304, 3: 0.18181818181818182, 4: 0.09090909090909091, 5: 0.12121212121212122, 6: 0.12121212121212122, 7: 0.12121212121212122, 8: 0.15151515151515152, 9: 0.06060606060606061, 10: 0.09090909090909091, 11: 0.030303030303030304, 12: 0.06060606060606061, 13: 0.15151515151515152, 14: 0.06060606060606061, 15: 0.06060606060606061, 16: 0.06060606060606061, 17: 0.06060606060606061, 18: 0.06060606060606061, 19: 0.09090909090909091, 20: 0.06060606060606061, 21: 0.06060606060606061, 22: 0.06060606060606061, 23: 0.15151515151515152, 24: 0.09090909090909091, 25: 0.09090909090909091, 26: 0.06060606060606061, 27: 0.12121212121212122, 28: 0.09090909090909091, 29: 0.12121212121212122, 30: 0.12121212121212122, 31: 0.18181818181818182, 32: 0.36363636363636365, 33: 0.5151515151515151}\n",
        "dct2 = {0: 0.3554834941851943, 1: 0.2659538704545025, 2: 0.31718938996844476, 3: 0.2111740783205706, 4: 0.07596645881657382, 5: 0.07948057788594247, 6: 0.07948057788594247, 7: 0.17095511498035434, 8: 0.2274050914716605, 9: 0.10267519030637758, 10: 0.07596645881657381, 11: 0.05285416945233648, 12: 0.08425192086558088, 13: 0.22646969838808148, 14: 0.10140627846270832, 15: 0.10140627846270832, 16: 0.023634794260596875, 17: 0.09239675666845953, 18: 0.10140627846270832, 19: 0.14791134007618667, 20: 0.10140627846270832, 21: 0.09239675666845953, 22: 0.10140627846270832, 23: 0.15012328691726787, 24: 0.05705373563802805, 25: 0.05920820250279008, 26: 0.07558192219009324, 27: 0.13347932684333308, 28: 0.13107925627221215, 29: 0.13496528673866567, 30: 0.17476027834493085, 31: 0.19103626979791702, 32: 0.3086510477336959, 33: 0.373371213013235}\n",
        "\n",
        "lst1 = []\n",
        "# lst1 = [v for k, v in dct1.items()]\n",
        "lst1.append([v for k, v in dct1.items()])\n",
        "lst1.append([v for k, v in dct2.items()])\n",
        "print(lst1)\n",
        "\n",
        "# df_1 = pd.DataFrame(lst1)\n",
        "df_1 = pd.DataFrame(columns=[i for i in range(34)])\n",
        "df_1.loc['AAA'] = [v for k, v in dct1.items()]\n",
        "df_1.loc['BBB'] = [v for k, v in dct2.items()]\n",
        "print(df_1)\n"
      ],
      "execution_count": null,
      "outputs": [
        {
          "output_type": "stream",
          "text": [
            "[[0.48484848484848486, 0.2727272727272727, 0.30303030303030304, 0.18181818181818182, 0.09090909090909091, 0.12121212121212122, 0.12121212121212122, 0.12121212121212122, 0.15151515151515152, 0.06060606060606061, 0.09090909090909091, 0.030303030303030304, 0.06060606060606061, 0.15151515151515152, 0.06060606060606061, 0.06060606060606061, 0.06060606060606061, 0.06060606060606061, 0.06060606060606061, 0.09090909090909091, 0.06060606060606061, 0.06060606060606061, 0.06060606060606061, 0.15151515151515152, 0.09090909090909091, 0.09090909090909091, 0.06060606060606061, 0.12121212121212122, 0.09090909090909091, 0.12121212121212122, 0.12121212121212122, 0.18181818181818182, 0.36363636363636365, 0.5151515151515151], [0.3554834941851943, 0.2659538704545025, 0.31718938996844476, 0.2111740783205706, 0.07596645881657382, 0.07948057788594247, 0.07948057788594247, 0.17095511498035434, 0.2274050914716605, 0.10267519030637758, 0.07596645881657381, 0.05285416945233648, 0.08425192086558088, 0.22646969838808148, 0.10140627846270832, 0.10140627846270832, 0.023634794260596875, 0.09239675666845953, 0.10140627846270832, 0.14791134007618667, 0.10140627846270832, 0.09239675666845953, 0.10140627846270832, 0.15012328691726787, 0.05705373563802805, 0.05920820250279008, 0.07558192219009324, 0.13347932684333308, 0.13107925627221215, 0.13496528673866567, 0.17476027834493085, 0.19103626979791702, 0.3086510477336959, 0.373371213013235]]\n",
            "           0         1         2   ...        31        32        33\n",
            "AAA  0.484848  0.272727  0.303030  ...  0.181818  0.363636  0.515152\n",
            "BBB  0.355483  0.265954  0.317189  ...  0.191036  0.308651  0.373371\n",
            "\n",
            "[2 rows x 34 columns]\n"
          ],
          "name": "stdout"
        }
      ]
    },
    {
      "cell_type": "markdown",
      "metadata": {
        "id": "2OyrzzVDpHxp"
      },
      "source": [
        "元は'D'列に'D0', 'D1'がラベル的にあり、それらを列にする。\n",
        "\n",
        "    A   B   C   D1   D0\n",
        "0  10  20  30   D1  NaN\n",
        "1  11  21  31  NaN   D0\n",
        "2  12  22  32  NaN   D0\n",
        "3  13  23  33   D1  NaN\n",
        "4  14  24  34   D1  NaN\n",
        "\n",
        "\n"
      ]
    },
    {
      "cell_type": "code",
      "metadata": {
        "colab": {
          "base_uri": "https://localhost:8080/"
        },
        "id": "xIPDaG83oVUL",
        "outputId": "2d2b832b-a099-484a-a592-2caea9c9c143"
      },
      "source": [
        "# 指定列名(clmn_name)の要素がラベルになっていて、そのラベル名を列名にして分割する。\n",
        "def discrete_clmn(df_org, clmn_name):\n",
        "    wkFlag = True\n",
        "    clmn_lst = df_org[clmn_name].unique()\n",
        "    for str_disc in clmn_lst:\n",
        "        # 初回は結合できないので。\n",
        "        if wkFlag == True:\n",
        "            df_concat = df_org[df_org[clmn_name] == str_disc].rename(columns={clmn_name: str_disc})\n",
        "            wkFlag = False\n",
        "        else:\n",
        "            df_wk = df_org[df_org[clmn_name] == str_disc].rename(columns={clmn_name: str_disc})\n",
        "            df_concat = pd.concat([df_concat, df_wk]).sort_index()\n",
        "\n",
        "    return df_concat\n",
        "\n",
        "\n",
        "lst_org = [[10,20,30,'D1'],[11,21,31,'D0'],[12,22,32,'D0'],[13,23,33,'D1'],[14,24,34,'D1']]\n",
        "df_1 = pd.DataFrame(lst_org, columns=['A', 'B', 'C', 'D'])\n",
        "print(df_1)\n",
        "\n",
        "df_2 = discrete_clmn(df_1, 'D')\n",
        "print(df_2)\n",
        "\n",
        "df_2.to_excel('test.xlsx', index=False)"
      ],
      "execution_count": null,
      "outputs": [
        {
          "output_type": "stream",
          "name": "stdout",
          "text": [
            "    A   B   C   D\n",
            "0  10  20  30  D1\n",
            "1  11  21  31  D0\n",
            "2  12  22  32  D0\n",
            "3  13  23  33  D1\n",
            "4  14  24  34  D1\n",
            "    A   B   C   D1   D0\n",
            "0  10  20  30   D1  NaN\n",
            "1  11  21  31  NaN   D0\n",
            "2  12  22  32  NaN   D0\n",
            "3  13  23  33   D1  NaN\n",
            "4  14  24  34   D1  NaN\n"
          ]
        }
      ]
    },
    {
      "cell_type": "markdown",
      "metadata": {
        "id": "-xGrt1yaxJZ7"
      },
      "source": [
        "分割対象列は別のパターン"
      ]
    },
    {
      "cell_type": "code",
      "metadata": {
        "colab": {
          "base_uri": "https://localhost:8080/"
        },
        "id": "c7txaqmTw7DQ",
        "outputId": "bdacba01-3a32-4bf2-adcf-59e6402cf17d"
      },
      "source": [
        "def discrete_clmn(df_org, clmn_name1, clmn_name2):\n",
        "    wkFlag = True\n",
        "    clmn_lst = df_org[clmn_name1].unique()\n",
        "    for str_disc in clmn_lst:\n",
        "        if wkFlag == True:\n",
        "            df_concat = df_org[df_org[clmn_name1] == str_disc].rename(columns={clmn_name2: clmn_name2 + '_' + str_disc})\n",
        "            wkFlag = False\n",
        "        else:\n",
        "            df_wk = df_org[df_org[clmn_name1] == str_disc].rename(columns={clmn_name2: clmn_name2 + '_' + str_disc})\n",
        "            df_concat = pd.concat([df_concat, df_wk]).sort_index()\n",
        "\n",
        "    return df_concat\n",
        "\n",
        "lst_org = [[10,20,30,'D1'],[11,21,31,'D0'],[12,22,32,'D0'],[13,23,33,'D1'],[14,24,34,'D1'],[15,25,35,'D2']]\n",
        "df_1 = pd.DataFrame(lst_org, columns=['A', 'B', 'C', 'D'])\n",
        "print(df_1)\n",
        "df = discrete_clmn(df_1, 'D', 'C')\n",
        "print(df)"
      ],
      "execution_count": null,
      "outputs": [
        {
          "output_type": "stream",
          "name": "stdout",
          "text": [
            "    A   B   C   D\n",
            "0  10  20  30  D1\n",
            "1  11  21  31  D0\n",
            "2  12  22  32  D0\n",
            "3  13  23  33  D1\n",
            "4  14  24  34  D1\n",
            "5  15  25  35  D2\n",
            "    A   B  C_D1   D  C_D0  C_D2\n",
            "0  10  20  30.0  D1   NaN   NaN\n",
            "1  11  21   NaN  D0  31.0   NaN\n",
            "2  12  22   NaN  D0  32.0   NaN\n",
            "3  13  23  33.0  D1   NaN   NaN\n",
            "4  14  24  34.0  D1   NaN   NaN\n",
            "5  15  25   NaN  D2   NaN  35.0\n"
          ]
        }
      ]
    },
    {
      "cell_type": "markdown",
      "metadata": {
        "id": "7eooQqcgCnYB"
      },
      "source": [
        "列の入れ替え"
      ]
    },
    {
      "cell_type": "code",
      "metadata": {
        "id": "GeEsEbiNCaWz",
        "colab": {
          "base_uri": "https://localhost:8080/"
        },
        "outputId": "e3a436d0-ec89-49c3-a771-a0d38177fa65"
      },
      "source": [
        "lst_org = [[10,20,30,40],[11,21,31,41],[12,22,32,42],[13,23,33,43],[14,24,34,44]]\n",
        "df_1 = pd.DataFrame(lst_org, columns=[\"A\", \"B\", \"C\", \"D\"])\n",
        "print(df_1)\n",
        "\n",
        "lst_clm = list(df_1.columns)\n",
        "print(lst_clm)\n",
        "lst_clm[-3], lst_clm[-1] = lst_clm[-1], lst_clm[-3]\n",
        "print(lst_clm)\n",
        "\n",
        "# columnsリスト指定で入替\n",
        "df_2 = df_1.reindex(columns=lst_clm)\n",
        "print(df_2)"
      ],
      "execution_count": null,
      "outputs": [
        {
          "output_type": "stream",
          "name": "stdout",
          "text": [
            "    A   B   C   D\n",
            "0  10  20  30  40\n",
            "1  11  21  31  41\n",
            "2  12  22  32  42\n",
            "3  13  23  33  43\n",
            "4  14  24  34  44\n",
            "['A', 'B', 'C', 'D']\n",
            "['A', 'D', 'C', 'B']\n",
            "    A   D   C   B\n",
            "0  10  40  30  20\n",
            "1  11  41  31  21\n",
            "2  12  42  32  22\n",
            "3  13  43  33  23\n",
            "4  14  44  34  24\n"
          ]
        }
      ]
    },
    {
      "cell_type": "markdown",
      "metadata": {
        "id": "eUUS2X_9GKbw"
      },
      "source": [
        "列をコピーして追加"
      ]
    },
    {
      "cell_type": "code",
      "metadata": {
        "colab": {
          "base_uri": "https://localhost:8080/"
        },
        "id": "xylQEKDHGJZz",
        "outputId": "53e7f464-6b1f-4bd8-9ef0-2e09a080e8d0"
      },
      "source": [
        "print(df_1)\n",
        "\n",
        "df_2 = df_1\n",
        "\n",
        "df_1.loc[:,'C_copy'] = df_1.loc[:,'C']\n",
        "print(df_1)\n"
      ],
      "execution_count": null,
      "outputs": [
        {
          "output_type": "stream",
          "name": "stdout",
          "text": [
            "    A   B   C   D\n",
            "0  10  20  30  40\n",
            "1  11  21  31  41\n",
            "2  12  22  32  42\n",
            "3  13  23  33  43\n",
            "4  14  24  34  44\n",
            "    A   B   C   D  C_copy\n",
            "0  10  20  30  40      30\n",
            "1  11  21  31  41      31\n",
            "2  12  22  32  42      32\n",
            "3  13  23  33  43      33\n",
            "4  14  24  34  44      34\n"
          ]
        }
      ]
    },
    {
      "cell_type": "markdown",
      "metadata": {
        "id": "R9sbc0S4IO2T"
      },
      "source": [
        "各行において一番大きな値以外をnanに置き換える"
      ]
    },
    {
      "cell_type": "code",
      "metadata": {
        "colab": {
          "base_uri": "https://localhost:8080/"
        },
        "id": "_Db-sLvKHo1M",
        "outputId": "569a807d-5af9-4797-d89f-96da08996395"
      },
      "source": [
        "lst = list(df_1.loc[1,'A':'D'])\n",
        "print(lst)\n",
        "# print(lst.index(sorted(lst)[-1]))  # 一番目に大きな値のindex\n",
        "# print(lst.index(sorted(lst)[-2]))  # 二番目に大きな値のindex\n",
        "\n",
        "arr = np.zeros((len(lst)))\n",
        "arr[:] = np.nan\n",
        "\n",
        "arr[lst.index(sorted(lst)[-1])] = lst[lst.index(sorted(lst)[-1])]\n",
        "arr[lst.index(sorted(lst)[-2])] = lst[lst.index(sorted(lst)[-2])]\n",
        "print(arr)\n",
        "\n",
        "df_1.loc[1,'A':'D'] = arr\n",
        "print(df_1)"
      ],
      "execution_count": null,
      "outputs": [
        {
          "output_type": "stream",
          "name": "stdout",
          "text": [
            "[11, 21, 31, 41]\n",
            "[nan nan 31. 41.]\n",
            "      A     B     C     D  C_copy\n",
            "0  10.0  20.0  30.0  40.0      30\n",
            "1   NaN   NaN  31.0  41.0      31\n",
            "2  12.0  22.0  32.0  42.0      32\n",
            "3  13.0  23.0  33.0  43.0      33\n",
            "4  14.0  24.0  34.0  44.0      34\n"
          ]
        }
      ]
    },
    {
      "cell_type": "markdown",
      "metadata": {
        "id": "K22DlqYBfGJP"
      },
      "source": [
        "### ファイル操作"
      ]
    },
    {
      "cell_type": "code",
      "metadata": {
        "id": "EZP0TxDifFJo"
      },
      "source": [
        "import re\n",
        "import numpy as np\n",
        "import pandas as pd\n",
        "\n",
        "lst_org = [[10,20,30,40],[11,21,31,41],[12,22,32,42],[13,23,33,43],[14,24,34,44]]\n",
        "# Numpy\n"
      ],
      "execution_count": null,
      "outputs": []
    },
    {
      "cell_type": "code",
      "metadata": {
        "id": "GfIzoP7_1b1A"
      },
      "source": [
        "# list型を保存\n",
        "with open('savetxt.txt', 'w', newline='') as f:\n",
        "    writer = csv.writer(f)\n",
        "    writer.writerows(savelst)"
      ],
      "execution_count": null,
      "outputs": []
    },
    {
      "cell_type": "code",
      "metadata": {
        "id": "h82KQOj01bhY"
      },
      "source": [
        "# nparray型を保存\n",
        "arr1 = np.array(lst_org, dtype=int)\n",
        "np.savetxt('savetxt.txt', arr1, delimiter=',', fmt='%.3e')\n",
        "#arr3_load = np.loadtxt('np_savetxt.txt', delimiter=',')\n",
        "#print(arr3_load)"
      ],
      "execution_count": null,
      "outputs": []
    },
    {
      "cell_type": "code",
      "metadata": {
        "colab": {
          "base_uri": "https://localhost:8080/"
        },
        "id": "S_n-awnAFYDH",
        "outputId": "7f7c4895-788f-40ad-8598-70e261d5839c"
      },
      "source": [
        "# テキストで読み取る（1行ずつ）\n",
        "wklst = []\n",
        "with open('savetxt.txt', encoding='Shift-JIS') as f:\n",
        "    for i, s_line in enumerate(f):\n",
        "        #if i == 0: continue\n",
        "        s_line = re.sub(r\"[\\n]\", \"\", s_line)\n",
        "        wktpl = tuple(s_line.split(','))\n",
        "        wklst.append(wktpl)\n",
        "\n",
        "print(wklst)"
      ],
      "execution_count": null,
      "outputs": [
        {
          "output_type": "stream",
          "text": [
            "[('1.000e+01', '2.000e+01', '3.000e+01', '4.000e+01'), ('1.100e+01', '2.100e+01', '3.100e+01', '4.100e+01'), ('1.200e+01', '2.200e+01', '3.200e+01', '4.200e+01'), ('1.300e+01', '2.300e+01', '3.300e+01', '4.300e+01'), ('1.400e+01', '2.400e+01', '3.400e+01', '4.400e+01')]\n"
          ],
          "name": "stdout"
        }
      ]
    },
    {
      "cell_type": "code",
      "metadata": {
        "colab": {
          "base_uri": "https://localhost:8080/"
        },
        "id": "uySWCsWsGggw",
        "outputId": "0a573ed3-da6a-4782-886c-de7ffff2f1d0"
      },
      "source": [
        "# 数値で読み取る\n",
        "arr2 = np.loadtxt('savetxt.txt', delimiter=',')\n",
        "print(arr2)"
      ],
      "execution_count": null,
      "outputs": [
        {
          "output_type": "stream",
          "text": [
            "[[10. 20. 30. 40.]\n",
            " [11. 21. 31. 41.]\n",
            " [12. 22. 32. 42.]\n",
            " [13. 23. 33. 43.]\n",
            " [14. 24. 34. 44.]]\n"
          ],
          "name": "stdout"
        }
      ]
    },
    {
      "cell_type": "code",
      "metadata": {
        "colab": {
          "base_uri": "https://localhost:8080/"
        },
        "id": "3C0g8CichQFK",
        "outputId": "3805a0fb-afd5-464c-ce69-4d1f5de168d6"
      },
      "source": [
        "# Pandas\n",
        "# データフレームというオブジェクトにする\n",
        "# header=None: 元ファイルにheaderはないですよ。\n",
        "# index_col=0: 名無しのindex列があるので0番目の列にしてね。（これやらないと'Unnamed：0'という列ができる。）\n",
        "df = pd.read_csv('savetxt.txt', sep=',', header=None, index_col=0)\n",
        "print(df)\n",
        "\n",
        "df = pd.read_csv('savetxt.txt', sep=',', names=('A', 'B', 'C', 'D'))\n",
        "print(df)"
      ],
      "execution_count": null,
      "outputs": [
        {
          "output_type": "stream",
          "text": [
            "      0     1     2     3\n",
            "0  10.0  20.0  30.0  40.0\n",
            "1  11.0  21.0  31.0  41.0\n",
            "2  12.0  22.0  32.0  42.0\n",
            "3  13.0  23.0  33.0  43.0\n",
            "4  14.0  24.0  34.0  44.0\n",
            "      A     B     C     D\n",
            "0  10.0  20.0  30.0  40.0\n",
            "1  11.0  21.0  31.0  41.0\n",
            "2  12.0  22.0  32.0  42.0\n",
            "3  13.0  23.0  33.0  43.0\n",
            "4  14.0  24.0  34.0  44.0\n"
          ],
          "name": "stdout"
        }
      ]
    },
    {
      "cell_type": "code",
      "metadata": {
        "id": "iKeNyPJ41On9"
      },
      "source": [
        ""
      ],
      "execution_count": null,
      "outputs": []
    },
    {
      "cell_type": "code",
      "metadata": {
        "colab": {
          "base_uri": "https://localhost:8080/",
          "height": 282
        },
        "id": "vCr_dDMmkQXg",
        "outputId": "b0b414cd-e732-432f-a27f-5da95d8fe5af"
      },
      "source": [
        "# Pandasデータフレームの描画\n",
        "df1.plot()"
      ],
      "execution_count": null,
      "outputs": [
        {
          "output_type": "execute_result",
          "data": {
            "text/plain": [
              "<matplotlib.axes._subplots.AxesSubplot at 0x7f03883420b8>"
            ]
          },
          "metadata": {
            "tags": []
          },
          "execution_count": 62
        },
        {
          "output_type": "display_data",
          "data": {
            "image/png": "[encoded data removed]",
            "text/plain": [
              "<Figure size 432x288 with 1 Axes>"
            ]
          },
          "metadata": {
            "tags": []
          }
        }
      ]
    },
    {
      "cell_type": "markdown",
      "metadata": {
        "id": "2xvogg9mVbGT"
      },
      "source": [
        "###グラフの書き方\n",
        "https://qiita.com/skotaro/items/08dc0b8c5704c94eafb9\n"
      ]
    },
    {
      "cell_type": "code",
      "metadata": {
        "id": "J6NIw7FGljHF"
      },
      "source": [
        "import matplotlib as mpl\n",
        "import matplotlib.pyplot as plt"
      ],
      "execution_count": null,
      "outputs": []
    },
    {
      "cell_type": "code",
      "metadata": {
        "colab": {
          "base_uri": "https://localhost:8080/"
        },
        "id": "Cl_SbhSs4Mr5",
        "outputId": "eeb5c701-50de-4664-cf15-1fcd7d3e27a2"
      },
      "source": [
        "print(type(df1))"
      ],
      "execution_count": null,
      "outputs": [
        {
          "output_type": "stream",
          "text": [
            "<class 'pandas.core.frame.DataFrame'>\n"
          ],
          "name": "stdout"
        }
      ]
    },
    {
      "cell_type": "code",
      "metadata": {
        "colab": {
          "base_uri": "https://localhost:8080/"
        },
        "id": "OG51R4_mWMCF",
        "outputId": "2ce328b1-59dc-4923-9f9e-6923f34cbcdd"
      },
      "source": [
        "arrRes = df1.values\n",
        "xx = range(len(arrRes))\n",
        "y1 = arrRes[:,1]\n",
        "y2 = arrRes[:,2]\n",
        "\n",
        "print(y1)"
      ],
      "execution_count": null,
      "outputs": [
        {
          "output_type": "stream",
          "text": [
            "[ 2.  7. 12. 17. 22. 27. 32. 37. 42. 47.]\n"
          ],
          "name": "stdout"
        }
      ]
    },
    {
      "cell_type": "code",
      "metadata": {
        "colab": {
          "base_uri": "https://localhost:8080/",
          "height": 404
        },
        "id": "pG_shNDaVq6e",
        "outputId": "50fc09fc-7a0f-4129-d91b-fdeb38850f6a"
      },
      "source": [
        "# キャンバスみたいな台紙\n",
        "fig = plt.figure(figsize=(10, 6),facecolor='skyblue')\n",
        "\n",
        "# １軸目\n",
        "ax = fig.add_subplot(111, xlim=(0.0, len(arrRes)), ylim=(0.0, 100.0), xlabel='- XX -', ylabel='- Y1 -')\n",
        "ax.grid(which = 'major', axis = 'y', c = 'black', alpha = 0.3, linestyle = '--', linewidth = 1)\n",
        "ax.plot(xx, y1, 'r', linewidth=1, linestyle='--')\n",
        "\n",
        "# ２軸目\n",
        "ax2 = ax.twinx()\n",
        "ax2.set_ylim(0.0, 50.0)\n",
        "ax2.set_ylabel('- Y2 -')\n",
        "ax2.plot(xx, y2, 'g', linewidth=1, marker='x', markeredgewidth=0.5)\n",
        "\n",
        "plt.title('* TITLE *')\n",
        "plt.show()"
      ],
      "execution_count": null,
      "outputs": [
        {
          "output_type": "display_data",
          "data": {
            "image/png": "[encoded data removed]",
            "text/plain": [
              "<Figure size 720x432 with 2 Axes>"
            ]
          },
          "metadata": {
            "tags": []
          }
        }
      ]
    },
    {
      "cell_type": "code",
      "metadata": {
        "colab": {
          "base_uri": "https://localhost:8080/"
        },
        "id": "mVwcvjPXaRUE",
        "outputId": "dd3e1b51-2fa8-4a47-c1f9-4600db59609c"
      },
      "source": [
        "# 複数チャートを並べて作成\n",
        "lst1 = [53.755656912209254, 49.50806195665656, 53.67899936767204, 49.73638113412574, 57.7348898297064, 52.392393897129075, 38.823485734712094, 48.11450912573554, 45.114477743148825, \\\n",
        "        58.597918564204534, 51.40464852127454, 34.26151397287511, 33.992786166276595, 51.59802949908048, 63.97243475325642, 59.65095446549289, 53.70132837495121, 47.42211112683533, \\\n",
        "        34.68731259190775, 46.957081541662724, 50.49015274795502, 42.24771242481779, 55.14022418467297, 53.72240027709602, 42.66732221165579, 48.37938712483465, 57.355814150847095, \\\n",
        "        37.731372260089756, 52.450385467833684, 50.29349820820334, 57.713390034749324, 46.27152377912176, 49.427246425103014, 48.94446131807638, 49.276526029252864, 59.03710220820054, \\\n",
        "        42.49599543518012, 47.944407454868504, 62.94465430079263, 52.081357590946595, 47.27706958815239, 38.350000371249244, 51.24324510959582, 52.6035436768333, 54.41720633668928, \\\n",
        "        54.885237403611434, 54.565083822807026, 39.80040678373472, 53.9890980912514, 51.93950644910413, 43.80218448094711, 58.85136191069049, 49.53580344162592, 54.68357476539743, \\\n",
        "        50.29388750681143, 48.73725997758867, 50.19892875349184, 60.269934840515994, 51.17536099387721, 52.93497756943311, 35.773387122017155, 49.938890209478224, 57.04864580371884, \\\n",
        "        59.20916498425328, 48.47445472671085, 45.21057315499713, 32.43541143683289, 47.652916400220136, 53.24552644649259, 56.313344577072776, 30.279609418467114, 52.499838438878115, \\\n",
        "        40.647543631621545, 50.89637771140652, 34.85184608837338, 55.92183444490115, 58.94808221985185, 55.14352529078534, 49.00496997751124, 34.36619915419391, 54.76466825142347, \\\n",
        "        56.505195905752494, 37.850917288171445, 25.35498574743496, 46.50470302672884, 38.23048785064423, 27.820712856053394, 42.7453643800846, 53.05477659832765, 61.25266892207392, \\\n",
        "        60.35492040574502, 63.10162722587345, 45.41357937975818, 43.80113570131095, 52.128674215194145, 47.06879783289946, 44.71992305319289, 45.802029977202075, 58.96198902566585, \\\n",
        "        44.765498890745, 37.04013994071059, 34.646996428883234, 55.86005274692508, 54.53041416860411, 42.19666753553837, 31.383202119456666, 56.206121254228385, 55.18026785967936, \\\n",
        "        36.34299608023993, 46.80207414955007, 39.901704100472664, 35.19408928085663, 40.92170459436118, 55.90328527920272, 46.761689784335594, 47.9148416629931, 38.17853097231592, \\\n",
        "        34.02990157339445, 46.95178090988916, 46.54999403585688, 41.70943562249088, 61.165399999307674, 46.55502279372291, 36.73797719672289, 54.7488819004632, 42.00972876612202, \\\n",
        "        51.60044586258203, 40.58516544510164, 44.37170489106282, 53.58642954381024, 46.732982588751426, 26.50791309820303, 42.546346494933225, 40.40607005519118, 62.33461367456585, \\\n",
        "        48.64354241829454, 52.65445862079072, 48.27438828644238, 52.267345130739585, 48.61376664372092, 55.35905034377354, 44.897871914278525, 41.53485416251675, 59.64974601507189, \\\n",
        "        32.80235374652852, 50.4843098378594, 53.77218879080391, 49.907184581433285, 39.83187918819976, 54.12029020037305, 64.1370009107792, 42.35801232503005, 32.218331951367084, \\\n",
        "        44.53920465745428, 34.43592975775649, 46.170109573767256, 46.069942476816145, 46.94986804677675, 47.695257897639436, 50.87066315113595, 44.02695624003282, 42.50663996682862, \\\n",
        "        44.04703742163421, 55.881067084532575, 41.83189410330238, 58.16945947824236, 42.28335104137811, 49.95796407825272, 48.40111326116572, 55.369459139320305, 41.588865661441204, \\\n",
        "        28.942535152986512, 52.680848129529245, 40.79287159561653, 46.06130100843513, 33.582247129297336, 53.825839145192, 45.02465360805742, 41.12301829628075, 50.09216018998652, \\\n",
        "        45.70165465042551, 48.607284421797445, 37.4239901056923, 53.25321856190421, 62.755823088013585, 32.86983922198025, 55.19686409849281, 51.36891810074856, 37.00155310591778, \\\n",
        "        53.278978179814104, 45.21770804953675, 55.3806958945056, 53.44417662593628, 50.95322322982733, 31.527699882384624, 54.475030751419595, 54.89845421522143, 48.689345950461664, \\\n",
        "        38.67484731100171, 56.53082255057004]\n",
        "\n",
        "lst2 = [3, 3, 3, 6, 5, 4, 1, 2, 3, 5, 3, 3, 3, 2, 6, 5, 4, 5, 7, 3, 1, 3, 3, 3, 5, 3, 6, 6, 1, 6, 2, 6, 1, 4, 5, 6, 8, 4, 0, 3, 3, 1, 3, 1, 2, 7, 3, 0, 3, 0, 0, 3, 6, 2, 7, 9, 8, 4, \\\n",
        "        1, 3, 1, 3, 4, 7, 5, 1, 6, 6, 3, 8, 3, 0, 9, 9, 1, 4, 5, 4, 5, 2, 6, 8, 1, 3, 3, 1, 6, 3, 5, 8, 8, 4, 7, 3, 3, 3, 5, 7, 1, 1, 1, 3, 6, 3, 3, 8, 8, 5, 2, 6, 9, 2, 6, 3, 7, 5, \\\n",
        "        3, 3, 7, 1, 5, 1, 3, 5, 3, 4, 2, 1, 3, 3, 5, 6, 1, 3, 1, 7, 3, 1, 5, 5, 7, 3, 5, 3, 5, 2, 4, 1, 3, 9, 0, 3, 3, 3, 5, 3, 8, 4, 1, 2, 5, 5, 6, 4, 3, 4, 1, 5, 3, 1, 5, 1, 4, 5, \\\n",
        "        4, 1, 5, 7, 3, 7, 5, 7, 1, 7, 9, 3, 3, 9, 3, 3, 3, 3, 0, 0, 2, 5, 6, 3, 3, 4]"
      ],
      "execution_count": null,
      "outputs": [
        {
          "output_type": "stream",
          "text": [
            "47.775649556628615\n"
          ],
          "name": "stdout"
        }
      ]
    },
    {
      "cell_type": "code",
      "metadata": {
        "colab": {
          "base_uri": "https://localhost:8080/",
          "height": 265
        },
        "id": "wIylsixFgykZ",
        "outputId": "04b2dc15-ec2a-4dd0-a855-0bb657068643"
      },
      "source": [
        "lst2 = []\n",
        "for i in range(100):\n",
        "    lst2.append(np.random.randint(0,20, (10,)))\n",
        "\n",
        "arr = np.ravel(np.array(lst2))\n",
        "# lst2 = np.random.randint(0,10, (10,))\n",
        "\n",
        "lst2 = [0, 1, 2, 3, 4, 5, 6, 7, 8, 9, 3, 3, 6, 3, 5, 7, 9, 5, 5, 0, 2, 9, 5, 8, 7, 0, 8, 0, 6, 0, 9, 2, 4, 4, 8, 2, 6, 4, 7, 3, 6, 7, 1, 2, 4, 5, 5, 8, 5, 6, 2, 8, 0, 7, 4, 1, 9, 9, 6, 3, 1, 2, 5, 8, 2, 6, 9, 4, 4, 8, 6, 5, 2, 3, 5, 4, 1, 7, 5, 0, 7, 3, 6, 5, 5, 5, 1, 9, 9, 8, 1, 1, 4, 7, 5, 0, 3, 9, 4, 3, 1, 2, 5, 4, 2, 9, 3, 6, 6, 2, 1, 8, 5, 1, 0, 7, 3, 0, 9, 6, 6, 5, 1, 8, 0, 6, 7, 9, 7, 1, 1, 4, 1, 8, 5, 3, 1, 2, 1, 0, 6, 8, 9, 7, 4, 1, 2, 8, 6, 0, 9, 0, 7, 6, 5, 4, 1, 2, 6, 6, 2, 7, 3, 8, 4, 5, 7, 6, 0, 4, 3, 5, 7, 4, 4, 7, 2, 1, 3, 7, 0, 3, 2, 4, 1, 3, 8, 8, 4, 3, 9, 8, 5, 1, 1, 1, 8, 5, 0, 9, 4, 7, 8, 1, 1, 3, 6, 7, 7, 3, 3, 7, 6, 2, 5, 6, 4, 8, 1, 7, 2, 4, 9, 0, 3, 3, 0, 7, 4, 3, 0, 8, 5, 5, 0, 3, 5, 9, 0, 0, 8, 6, 3, 6, 9, 9, 2, 3, 2, 3, 9, 3, 8, 3, 6, 3, 2, 1, 8, 3, 7, 0, 0, 7, 9, 0, 2, 6, 1, 9, 5, 2, 9, 3, 2, 4, 5, 2, 5, 7, 4, 8, 2, 8, 6, 5, 5, 1, 3, 9, 7, 6, 1, 0, 9, 1, 8, 7, 3, 7, 2, 3, 9, 0, 1, 9, 8, 7, 8, 6, 9, 4, 6, 6, 4, 4, 8, 4, 1, 8, 9, 2, 0, 0, 5, 9, 0, 0, 6, 2, 6, 0, 3, 4, 5, 5, 9, 5, 2, 0, 4, 4, 3, 6, 6, 9, 2, 7, 0, 0, 7, 2, 1, 3, 3, 3, 6, 1, 5, 6, 0, 8, 9, 1, 2, 6, 4, 1, 8, 2, 5, 4, 1, 9, 0, 1, 8, 0, 3, 8, 7, 0, 8, 9, 9, 3, 9, 6, 3, 6, 5, 2, 9, 5, 3, 6, 3, 5, 0, 5, 1, 0, 7, 7, 2, 4, 4, 9, 4, 9, 9, 0, 7, 3, 8, 7, 0, 9, 4, 7, 6, 2, 5, 6, 6, 1, 7, 7, 0, 1, 1, 6, 2, 6, 6, 6, 7, 3, 7, 8, 6, 6, 5, 8, 8, 2, 8, 8, 7, 2, 3, 6, 1, 1, 4, 6, 0, 9, 6, 0, 0, 8, 0, 7, 4, 8, 7, 6, 5, 6, 6, 1, 0, 8, 8, 3, 6, 7, 3, 4, 3, 6, 8, 7, 6, 1, 6, 6, 8, 3, 6, 6, 4, 0, 9, 8, 7, 0, 5, 7, 6, 7, 9, 3, 1, 2, 5, 5, 5, 5, 3, 0, 3, 0, 5, 7, 9, 8, 9, 9, 3, 6, 9, 1, 7, 9, 8, 1, 9, 5, 1, 1, 5, 1, 8, 7, 7, 2, 2, 0, 6, 1, 0, 7, 6, 2, 5, 9, 7, 3, 8, 2, 8, 4, 0, 7, 9, 8, 2, 5, 4, 2, 9, 4, 5, 3, 2, 7, 9, 6, 3, 4, 1, 7, 2, 4, 3, 0, 0, 7, 5, 7, 2, 9, 8, 9, 6, 4, 3, 7, 1, 0, 1, 8, 9, 0, 3, 0, 1, 2, 9, 7, 2, 8, 3, 8, 5, 5, 4, 3, 3, 7, 9, 2, 8, 7, 2, 1, 9, 0, 0, 8, 3, 1, 6, 4, 4, 0, 6, 0, 5, 9, 4, 4, 1, 1, 3, 5, 5, 4, 0, 7, 0, 3, 8, 8, 4, 7, 3, 5, 1, 8, 0, 4, 3, 7, 6, 9, 0, 5, 2, 1, 3, 1, 8, 5, 1, 9, 6, 4, 0, 6, 2, 7, 7, 7, 3, 3, 2, 8, 4, 7, 7, 5, 0, 1, 9, 2, 7, 7, 6, 9, 9, 2, 5, 4, 8, 1, 0, 7, 7, 9, 0, 1, 1, 5, 6, 8, 4, 9, 3, 6, 3, 3, 0, 7, 2, 0, 6, 9, 6, 6, 4, 8, 0, 3, 0, 7, 8, 9, 8, 6, 1, 4, 6, 5, 1, 5, 8, 8, 2, 8, 4, 9, 2, 6, 7, 9, 1, 7, 5, 7, 4, 6, 3, 1, 0, 5, 7, 0, 4, 7, 0, 9, 8, 2, 3, 7, 4, 5, 5, 9, 7, 4, 9, 6, 8, 5, 8, 8, 5, 7, 0, 6, 5, 6, 5, 2, 2, 1, 1, 0, 5, 3, 5, 0, 9, 5, 8, 3, 4, 7, 4, 2, 8, 3, 0, 0, 7, 1, 3, 6, 4, 4, 1, 7, 8, 7, 6, 8, 8, 5, 5, 2, 7, 5, 8, 2, 7, 8, 1, 5, 2, 7, 1, 2, 3, 6, 6, 4, 6, 3, 0, 7, 3, 4, 3, 4, 5, 9, 1, 8, 0, 1, 4, 0, 7, 3, 9, 0, 4, 6, 9, 7, 5, 9, 4, 5, 1, 4, 5, 7, 1, 9, 7, 7, 1, 8, 4, 0, 7, 3, 1, 4, 2, 6, 3, 2, 6, 3, 8, 8, 3, 4, 2, 3, 3, 6, 3, 0, 4, 8, 8, 7, 1, 0, 5, 0, 6, 6, 4, 9, 8, 8, 8, 8, 3, 3, 0, 2, 0, 0, 3, 2, 3, 6, 7, 2, 5, 0, 6, 1, 0, 0, 0, 0, 2, 1, 6, 6, 7, 4, 3, 2, 9, 4, 1, 7, 9, 3, 3, 7, 3, 6, 5, 3, 9, 7, 6, 7, 2, 8, 4, 5, 8, 2, 1, 1, 9, 1, 8, 3, 7, 3, 7, 0, 8, 1, 9, 2, 3, 3, 0, 9, 2, 3, 2, 8, 9, 9, 4, 1, 6, 8, 9, 3, 6, 3, 3, 2, 2, 4, 7, 7, 7, 0, 5, 8, 1, 4, 1, 2, 7, 3, 2, 2, 1, 6, 7, 7, 2, 5, 8, 5, 1, 0, 5, 7, 8, 0, 9, 4, 2, 6, 8, 8, 0, 2, 1, 4, 7, 1, 7, 9, 3, 1, 8, 7, 8, 2, 3, 1, 1, 0, 2, 7, 2, 8, 8, 8, 3, 0, 0, 8, 3, 8, 3, 4, 4, 5, 6, 2, 8, 7, 6, 1, 3, 0, 7, 0, 9, 2, 4, 8, 6, 2, 5, 0, 6, 6, 2, 3, 4, 5, 9, 1, 2, 8, 7, 1, 8, 7, 3, 2, 3, 6, 9, 4, 9, 6, 7, 3, 6, 8, 3, 6, 3, 8, 5, 2, 1, 1, 5, 7, 1, 7, 2, 2, 8, 1, 6, 7, 0, 4, 7, 9, 0, 5, 3, 4, 4, 8, 4, 5, 4, 6, 6, 6, 0, 0, 2, 9, 9, 4, 3, 8, 0, 8, 3, 7, 9, 1, 3, 7, 3, 8, 8, 4, 1, 7, 6, 2, 5, 7, 3, 8, 9, 5, 4, 3, 2, 4, 8, 2, 3, 8, 3, 9, 7, 3, 0, 1, 5, 9, 1, 8, 7, 3, 7, 2, 4, 2, 8, 7, 9, 3, 0, 2, 0, 8, 8, 9, 2, 0, 0, 2, 5, 9, 9, 6, 7, 5, 4, 6, 9, 8, 0, 1, 0, 2, 5, 2, 5, 3, 0, 9, 7, 5, 4, 8, 3, 3, 8, 8, 0, 8, 4, 3, 7, 0, 2, 7, 6, 8, 1, 2, 5, 8, 3, 2, 1, 6, 7, 6, 6, 5, 1, 6, 0, 8, 5, 5, 8, 2, 1, 8, 8, 1, 4, 1, 3, 4, 5, 7, 6, 8, 6, 2, 8, 3, 5, 0, 0, 4, 3, 0, 7, 9, 5, 6, 2, 6, 0, 8, 6, 0, 6, 3, 3, 1, 3, 7, 1, 9, 7, 5, 9, 2, 3, 3, 6, 6, 7, 9, 2, 4, 8, 3, 1, 2, 0, 8, 0, 9, 0, 0, 1, 0, 5, 1, 6, 4, 6, 3, 9, 9, 6, 3, 6, 5, 7, 9, 3, 0, 1, 7, 8, 6, 8, 6, 6, 6, 4, 3, 9, 1, 4, 6, 5, 9, 6, 1, 9, 1, 6, 6, 2, 8, 4, 9, 8, 1, 1, 4, 5, 9, 7, 4, 7, 7, 9, 5, 3, 6, 4, 3, 8, 7, 9, 1, 9, 3, 9, 6, 2, 9, 3, 4, 4, 4, 3, 3, 7, 7, 4, 7, 9, 5, 4, 3, 0, 2, 3, 9, 6, 5, 9, 0, 6, 3, 7, 4, 8, 2, 6, 8, 8, 7, 2, 6, 4, 7, 3, 1, 5, 6, 0, 0, 4, 8, 6, 1, 3, 5, 8, 4, 5, 3, 4, 3, 3, 9, 2, 6, 0, 1, 5, 4, 7, 7, 8, 5, 6, 8, 0, 5, 1, 8, 3, 7, 5, 5, 2, 9, 9, 9, 3, 6, 4, 0, 7, 8, 2, 9, 9, 8, 7, 0, 5, 5, 8, 1, 9, 3, 7, 4, 6, 5, 6, 5, 9, 7, 5, 5, 8, 0, 2, 2, 5, 6, 6, 1, 5, 8, 0, 3, 1, 3, 4, 7, 0, 8, 7, 4, 5, 8, 6, 5, 8, 9, 4, 6, 9, 2, 9, 8, 3, 4, 7, 2, 2, 5, 1, 5, 5, 8, 8, 1, 3, 7, 5, 0, 1, 5, 0, 8, 9, 3, 8, 0, 2, 8, 0, 6, 6, 5, 6, 3, 3, 3, 7, 5, 8, 3, 0, 1, 7, 5, 3, 0, 7, 1, 0, 7, 7, 1, 4, 8, 0, 6, 9, 1, 8, 6, 3, 9, 7, 7, 3, 8, 8, 9, 9, 2, 7, 8, 8, 4, 9, 9, 8, 9, 4, 3, 0, 5, 2, 9, 8, 2, 6, 6, 7, 5, 2, 0, 0, 2, 9, 5, 8, 1, 4, 0, 5, 9, 0, 5, 2, 6, 9, 1, 4, 3, 5, 7, 1, 1, 9, 0, 4, 9, 7, 8, 4, 2, 6, 7, 7, 4, 5, 3, 9, 1, 0, 4, 0, 4, 5, 1, 8, 0, 7, 0, 8, 8, 4, 7, 3, 7, 8, 4, 8, 1, 3, 6, 6, 3, 4, 6, 4, 2, 8, 2, 2, 0, 2, 8, 4, 6, 2, 1, 9, 8, 3, 4, 6, 0, 8, 1, 0, 8, 5, 6, 0, 9, 6, 1, 1, 9, 7, 1, 3, 9, 3, 8, 9, 3, 0, 8, 7, 4, 4, 1, 5, 3, 6, 2, 5, 6, 8, 3, 1, 5, 6, 8, 8, 9, 1, 2, 6, 4, 2, 1, 3, 9, 0, 8, 1, 2, 0, 3, 0, 6, 0, 7, 0, 1, 5, 7, 2, 1, 0, 7, 4, 3, 7, 6, 3, 2, 2, 6, 4, 5, 2, 9, 0, 4, 5, 1, 7, 9, 8, 8, 0, 8, 8, 5, 7, 6, 3, 2, 5, 7, 0, 9, 2, 2, 5, 1, 8, 8, 7, 2, 6, 5, 9, 9, 5, 8, 9, 1, 1, 4, 3, 6, 8, 8, 6, 1, 0, 0, 1, 2, 5, 4, 8, 3, 6, 1, 3, 1, 1, 2, 9, 4, 6, 2, 4, 2, 2, 3, 7, 5, 8, 8, 3, 9, 2, 3, 2, 4, 7, 3, 5, 5, 7, 7, 8, 2, 6, 5, 9, 0, 3, 9, 1, 3, 7, 5, 3, 9, 5, 4, 7, 4, 5, 7, 9, 2, 0, 9, 6, 0, 5, 4, 7, 0, 6, 7, 2, 2, 2, 5, 4, 4, 0, 3, 0, 8, 6, 2, 9, 9, 3, 8, 7, 5, 8, 7, 4, 5, 9, 3, 2, 9, 9, 3, 4, 6, 5, 6, 8, 1, 7, 8, 1, 4, 6, 5, 3, 9, 8, 7, 7, 6, 3, 7, 1, 4, 5, 6, 7, 9, 5, 2, 5, 7, 0, 4, 1, 3, 5, 3, 2, 1, 8, 0, 8, 4, 1, 0, 6, 1, 6, 6, 9, 6, 7, 6, 6, 3, 4, 6, 5, 2, 1, 2, 7, 9, 8, 8, 9, 2, 5, 8, 4, 6, 4, 1, 9, 1, 2, 6, 7, 1, 1, 2, 1, 3, 1, 8, 4, 4, 2, 9, 7, 2, 2, 5, 2, 1, 8, 8, 6, 4, 4, 1, 5, 3, 6, 8, 1, 0, 6, 8, 3, 3, 4, 0, 8, 6, 5, 1, 8, 2, 9, 4, 0, 3, 4, 5, 8, 9, 6, 2, 0, 8, 8, 5, 2, 3, 7, 6, 4, 4, 4, 5, 5, 2, 1, 1, 6, 4, 5, 7, 3, 4, 4, 5, 0, 5, 9, 1, 1, 4, 8, 9, 8, 1, 8, 0, 2, 0, 0, 8, 0, 7, 5, 1, 5, 5, 0, 0, 0, 9, 9, 5, 4, 1, 2, 9, 5, 9, 7, 1, 5, 1, 3, 8, 5, 6, 1, 6, 7, 5, 4, 3, 5, 0, 9, 9, 4, 9, 3, 5, 9, 6, 3, 2, 6, 2, 7, 9, 6, 6, 3, 6, 1, 9, 7, 0, 5, 8, 8, 7, 2, 8, 1, 5, 6, 2, 1, 4, 0, 1, 7, 7, 1, 0, 8, 1, 9, 3, 9, 5, 7, 7, 7, 9, 8, 7, 7, 3, 3, 6, 3, 7, 0, 7, 3, 6, 7, 7, 3, 5, 7, 1, 7, 1, 6, 2, 6, 3, 9, 9, 7, 6, 3, 1, 4, 5, 4, 6, 4, 6, 1, 8, 1, 7, 9, 7, 3, 8, 8, 7, 8, 2, 2, 2, 1, 6, 6, 0, 3, 3, 8, 1, 8, 6, 3, 7, 0, 0, 6, 6, 0, 3, 9, 1, 9, 4, 8, 8, 5, 7, 5, 4, 7, 2, 8, 1, 7, 2, 5, 3, 6, 5, 9, 1, 0, 7, 5, 3, 3, 7, 6, 5, 4, 5, 9, 6, 1, 5, 8, 9, 0, 5, 9, 7, 1, 9, 6, 1, 7, 2, 7, 7, 7, 2, 5, 2, 9, 7, 7, 5, 0, 5, 8, 8, 7, 5, 8, 3, 8, 9, 3, 9, 0, 3, 8, 0, 2, 4, 0, 4, 7, 0, 7, 0, 4, 3, 4, 5, 3, 3, 4, 3, 5, 5, 1, 2, 8, 1, 2, 8, 8, 1, 6, 8, 3, 1, 4, 2, 1, 0, 2, 7, 2, 9, 7, 1, 7, 8, 7, 8, 3, 5, 5, 9, 5, 9, 6, 0, 8, 4, 6, 9, 7, 8, 5, 7, 2, 3, 6, 9, 0, 8, 2, 0, 8, 3, 2, 4, 3, 8, 3, 6, 0, 0, 0, 8, 2, 7, 4, 5, 9, 6, 5, 0, 9, 4, 6, 7, 2, 0, 0, 0, 0, 2, 9, 7, 3, 7, 2, 8, 7, 3, 7, 3, 1, 8, 5, 2, 3, 9, 0, 7, 8, 4, 5, 6, 4, 7, 5, 4, 5, 7, 9, 3, 7, 8, 0, 9, 2, 8, 1, 0, 1, 0, 8, 9, 5, 4, 6, 5, 1, 3, 5, 8, 8, 7, 2, 4, 0, 5, 8, 4, 7, 0, 7, 3, 9, 0, 3, 9, 4, 7, 4, 7, 7, 9, 4, 3, 2, 3, 3, 6, 6, 8, 7, 6, 4, 5, 2, 2, 1, 4, 7, 8, 9, 1, 2, 2, 8, 1, 8, 9, 9, 3, 0, 0, 9, 2, 1, 7, 8, 8, 7, 8, 8, 5, 8, 4, 6, 4, 3, 6, 8, 2, 5, 2, 6, 9, 1, 7, 1, 8, 9, 0, 7, 9, 9, 0, 5, 4, 0, 3, 2, 8, 3, 5, 7, 5, 8, 0, 7, 3, 9, 8, 5, 8, 0, 7, 7, 0, 8, 7, 5, 0, 6, 6, 3, 5, 1, 0, 4, 0, 6, 9, 5, 0, 9, 1, 8, 7, 8, 5, 9, 3, 4, 5, 2, 2, 8, 4, 9, 1, 3, 8, 6, 6, 5, 3, 9, 6, 3, 7, 3, 1, 7, 2, 3, 1, 3, 0, 8, 3, 5, 3, 7, 0, 5, 1, 1, 2, 1, 8, 3, 9, 8, 5, 5, 7, 3, 1, 1, 2, 0, 0, 8, 0, 2, 8, 4, 4, 8, 7, 2, 4, 3, 3, 0, 5, 1, 9, 2, 7, 1, 5, 8, 4, 7, 3, 2, 2, 9, 2, 5, 1, 9, 5, 7, 0, 7, 0, 9, 7, 8, 8, 9, 0, 7, 4, 5, 4, 7, 0, 7, 8, 5, 5, 7, 3, 3, 9, 5, 9, 7, 0, 8, 2, 1, 3, 2, 2, 1, 6, 9, 9, 2, 2, 8, 8, 5, 8, 0, 7, 2, 4, 9, 3, 3, 1, 7, 8, 0, 3, 7, 7, 1, 2, 3, 7, 0, 0, 3, 7, 4, 6, 3, 6, 0, 3, 1, 0, 9, 6, 1, 8, 5, 6, 1, 7, 8, 9, 7, 1, 3, 5, 3, 4, 1, 4, 6, 3, 2, 5, 5, 9, 8, 3, 6, 0, 4, 4, 0, 8, 7, 7, 6, 2, 9, 9, 0, 9, 3, 7, 9, 8, 3, 7, 0, 9, 2, 0, 2, 2, 4, 8, 3, 4, 3, 1, 4, 0, 7, 0, 6, 5, 4, 7, 3, 3, 4, 3, 2, 3, 4, 4, 5, 5, 0, 9, 5, 3, 5, 9, 5, 6, 9, 4, 2, 7, 4, 7, 0, 5, 4, 0, 5, 5, 0, 9, 4, 2, 4, 7, 8, 1, 6, 7, 4, 3, 6, 6, 1, 7, 6, 1, 5, 3, 9, 6, 3, 9, 3, 3, 8, 5, 8, 5, 5, 8, 3, 8, 1, 9, 1, 1, 6, 1, 6, 1, 7, 2, 6, 8, 1, 7, 0, 6, 5, 5, 2, 3, 2, 9, 4, 7, 7, 2, 5, 6, 3, 3, 6, 5, 2, 5, 3, 5, 4, 4, 9, 3, 9, 5, 5, 0, 2, 0, 8, 3, 6, 0, 5, 6, 8, 2, 7, 8, 9, 9, 8, 2, 9, 7, 7, 1, 6, 7, 5, 8, 8, 7, 6, 1, 6, 5, 6, 8, 0, 2, 9, 0, 6, 3, 8, 5, 6, 9, 3, 8, 7, 1, 1, 3, 1, 4, 6, 8, 3, 8, 5, 3, 8, 0, 2, 4, 1, 6, 7, 9, 8, 7, 1, 1, 4, 2, 8, 8, 5, 9, 1, 5, 3, 4, 6, 3, 8, 9, 8, 8, 6, 4, 6, 5, 6, 4, 7, 4, 1, 0, 1, 9, 7, 1, 3, 8, 3, 7, 9, 0, 3, 3, 3, 4, 5, 7, 1, 6, 7, 5, 2, 6, 5, 9, 8, 6, 2, 7, 7, 2, 1, 3, 8, 8, 9, 5, 4, 3, 4, 4, 8, 1, 8, 5, 3, 4, 6, 0, 0, 8, 4, 1, 8, 4, 4, 8, 6, 9, 4, 2, 4, 3, 9, 2, 1, 6, 4, 5, 8, 3, 0, 9, 5, 5, 1, 0, 7, 9, 2, 5, 3, 3, 8, 4, 8, 8, 7, 2, 1, 8, 0, 8, 9, 6, 5, 7, 3, 6, 5, 7, 2, 4, 4, 0, 6, 6, 2, 1, 9, 3, 4, 2, 5, 8, 6, 4, 9, 3, 9, 6, 9, 3, 8, 4, 9, 0, 0, 5, 9, 9, 3, 9, 5, 6, 2, 9, 5, 8, 3, 6, 9, 2, 4, 6, 6, 6, 6, 2, 3, 6, 7, 7, 8, 8, 4, 2, 1, 5, 3, 2, 6, 5, 4, 4, 2, 7, 4, 2, 0, 1, 9, 0, 4, 2, 8, 1, 8, 8, 5, 1, 7, 0, 9, 4, 8, 2, 6, 0, 4, 9, 2, 8, 1, 6, 0, 9, 5, 6, 6, 9, 5, 0, 7, 4, 6, 0, 5, 9, 1, 2, 3, 7, 3, 0, 8, 9, 5, 6, 7, 8, 7, 3, 8, 0, 6, 8, 8, 2, 2, 6, 3, 0, 7, 3, 0, 6, 9, 5, 0, 6, 1, 8, 2, 8, 0, 4, 5, 3, 2, 7, 9, 0, 0, 4, 3, 4, 8, 3, 5, 5, 2, 4, 7, 0, 7, 1, 9, 5, 5, 8, 3, 1, 7, 1, 5, 3, 5, 6, 3, 6, 9, 2, 3, 0, 4, 7, 5, 3, 0, 0, 7, 6, 4, 6, 0, 8, 8, 3, 8, 9, 6, 7, 0, 2, 1, 8, 1, 8, 0, 9, 6, 6, 8, 3, 2, 1, 3, 7, 0, 4, 6, 4, 2, 8, 5, 9, 8, 2, 3, 9, 3, 2, 0, 0, 4, 6, 8, 0, 3, 9, 6, 0, 3, 3, 6, 9, 0, 1, 4, 4, 6, 2, 0, 2, 7, 4, 8, 9, 4, 2, 0, 8, 1, 8, 2, 4, 1, 6, 8, 8, 9, 4, 0, 6, 5, 4, 9, 0, 0, 3, 2, 5, 6, 5, 9, 8, 1, 1, 3, 3, 0, 3, 2, 7, 9, 0, 8, 5, 5, 9, 2, 3, 5, 5, 6, 6, 3, 5, 5, 0, 5, 2, 5, 0, 4, 8, 6, 6, 2, 0, 7, 6, 1, 3, 3, 5, 7, 3, 8, 1, 8, 7, 2, 5, 9, 1, 8, 8, 1, 8, 0, 0, 4, 7, 1, 1, 7, 6, 7, 4, 2, 8, 7, 8, 0, 2, 4, 9, 0, 8, 4, 1, 6, 7, 1, 2, 6, 3, 1, 6, 7, 0, 1, 2, 0, 6, 2, 6, 3, 1, 8, 8, 2, 3, 5, 7, 4, 4, 1, 4, 5, 2, 6, 1, 8, 3, 6, 6, 1, 1, 2, 9, 6, 6, 5, 0, 9, 0, 4, 3, 6, 4, 9, 5, 5, 6, 1, 8, 0, 4, 1, 2, 8, 3, 5, 1, 2, 9, 7, 3, 4, 7, 9, 6, 9, 6, 1, 1, 4, 8, 9, 6, 9, 5, 4, 1, 6, 6, 7, 7, 5, 4, 6, 0, 9, 1, 9, 5, 2, 7, 6, 4, 6, 8, 6, 1, 2, 7, 2, 5, 3, 1, 7, 9, 5, 1, 8, 3, 5, 7, 8, 5, 7, 2, 6, 8, 9, 3, 9, 1, 7, 6, 9, 6, 9, 5, 9, 2, 4, 1, 5, 7, 2, 0, 5, 0, 3, 1, 8, 2, 8, 3, 2, 4, 5, 3, 4, 1, 5, 6, 0, 2, 3, 0, 1, 4, 4, 7, 8, 1, 6, 3, 2, 3, 2, 6, 2, 6, 1, 4, 6, 0, 7, 7, 4, 0, 5, 4, 4, 5, 5, 5, 9, 8, 0, 5, 5, 8, 3, 0, 7, 9, 7, 5, 2, 8, 5, 4, 3, 3, 7, 8, 3, 1, 0, 6, 2, 5, 0, 7, 0, 7, 0, 3, 7, 3, 9, 9, 7, 1, 5, 1, 1, 9, 5, 6, 2, 2, 4, 2, 8, 8, 1, 2, 1, 0, 9, 6, 4, 4, 3, 1, 4, 6, 0, 0, 6, 4, 2, 9, 9, 0, 9, 3, 7, 0, 4, 8, 7, 1, 3, 9, 8, 7, 0, 3, 1, 8, 6, 9, 4, 9, 8, 5, 4, 0, 9, 8, 8, 3, 1, 5, 6, 0, 8, 4, 9, 3, 6, 7, 1, 8, 6, 9, 4, 5, 2, 9, 8, 4, 9, 7, 4, 4, 7, 5, 6, 9, 0, 1, 9, 1, 4, 1, 2, 5, 0, 2, 0, 7, 6, 2, 7, 8, 1, 8, 3, 5, 9, 2, 7, 1, 3, 3, 6, 0, 8, 7, 0, 8, 9, 9, 7, 2, 8, 3, 1, 8, 4, 2, 1, 0, 7, 2, 7, 8, 8, 8, 6, 5, 0, 7, 9, 0, 1, 2, 7, 6, 0, 9, 5, 2, 6, 6, 1, 3, 1, 8, 9, 8, 1, 5, 7, 1, 4, 4, 3, 8, 7, 4, 8, 1, 2, 1, 8, 4, 6, 5, 8, 6, 7, 9, 6, 5, 1, 4, 0, 2, 6, 1, 3, 7, 4, 2, 0, 3, 9, 8, 8, 5, 2, 4, 5, 4, 1, 5, 2, 4, 0, 2, 0, 2, 4, 3, 0, 0, 4, 5, 0, 3, 4, 0, 6, 3, 7, 5, 9, 0, 9, 0, 2, 9, 1, 1, 6, 1, 8, 1, 5, 5, 9, 8, 7, 9, 1, 0, 8, 1, 9, 5, 2, 3, 2, 3, 6, 1, 0, 1, 5, 5, 7, 7, 7, 4, 8, 1, 7, 8, 9, 8, 6, 6, 0, 3, 6, 3, 3, 1, 6, 9, 3, 4, 4, 5, 3, 1, 8, 9, 9, 2, 7, 7, 2, 2, 4, 9, 3, 7, 9, 2, 9, 6, 3, 0, 2, 6, 5, 3, 1, 1, 8, 4, 3, 7, 3, 1, 1, 2, 6, 6, 6, 0, 2, 9, 4, 4, 5, 4, 4, 7, 8, 0, 6, 9, 7, 9, 7, 7, 5, 0, 6, 8, 5, 4, 9, 3, 4, 9, 6, 4, 3, 2, 9, 4, 0, 1, 2, 1, 9, 0, 9, 8, 7, 0, 4, 5, 5, 4, 3, 3, 2, 7, 8, 3, 5, 7, 6, 2, 9, 5, 1, 4, 4, 6, 8, 1, 1, 2, 9, 9, 6, 7, 7, 2, 0, 5, 4, 7, 2, 7, 5, 7, 3, 4, 3, 1, 4, 5, 5, 9, 6, 4, 2, 9, 2, 5, 5, 8, 0, 3, 8, 8, 3, 2, 9, 2, 1, 3, 5, 3, 1, 3, 8, 1, 1, 3, 7, 3, 3, 0, 1, 8, 8, 6, 2, 9, 1, 1, 8, 2, 5, 9, 7, 7, 1, 8, 9, 1, 4, 4, 5, 7, 0, 6, 0, 9, 6, 9, 7, 2, 3, 9, 7, 9, 7, 2, 7, 5, 9, 2, 5, 0, 0, 6, 1, 5, 5, 8, 4, 5, 1, 0, 7, 9, 0, 1, 3, 7, 3, 8, 7, 5, 0, 2, 5, 0, 7, 0, 1, 1, 2, 3, 7, 3, 8, 1, 2, 1, 9, 4, 8, 7, 1, 8, 2, 9, 3, 2, 2, 3, 9, 9, 2, 3, 1, 8, 0, 1, 3, 6, 1, 4, 5, 6, 3, 9, 1, 1, 2, 2, 5, 0, 7, 2, 2, 8, 5, 6, 6, 7, 0, 9, 5, 0, 0, 0, 9, 9, 5, 0, 0, 8, 5, 5, 8, 4, 8, 0, 9, 1, 1, 0, 6, 3, 7, 3, 6, 4, 9, 7, 2, 1, 5, 2, 1, 9, 8, 3, 1, 7, 0, 2, 9, 0, 8, 8, 5, 8, 9, 4, 3, 1, 9, 6, 6, 2, 8, 0, 7, 4, 8, 1, 2, 8, 7, 7, 6, 1, 9, 0, 8, 0, 4, 0, 9, 8, 0, 6, 3, 2, 1, 5, 2, 7, 4, 6, 2, 5, 8, 2, 7, 3, 0, 5, 2, 3, 8, 4, 8, 4, 4, 4, 9, 5, 1, 4, 4, 2, 3, 2, 5, 3, 6, 0, 4, 4, 7, 3, 0, 1, 3, 0, 3, 3, 5, 8, 8, 7, 5, 9, 0, 3, 1, 3, 7, 6, 2, 9, 2, 0, 2, 0, 7, 6, 0, 7, 0, 5, 9, 6, 6, 7, 3, 9, 9, 2, 2, 5, 0, 4, 0, 2, 9, 2, 0, 7, 9, 9, 4, 7, 2, 1, 7, 1, 9, 5, 1, 9, 9, 8, 0, 8, 4, 8, 6, 3, 4, 6, 6, 9, 8, 0, 0, 1, 5, 7, 1, 1, 4, 4, 7, 6, 8, 0, 7, 5, 3, 3, 7, 2, 8, 8, 1, 2, 9, 8, 5, 7, 2, 6, 7, 3, 2, 3, 1, 3, 4, 6, 1, 6, 0, 7, 1, 7, 7, 5, 2, 5, 2, 6, 0, 3, 7, 6, 0, 2, 9, 2, 5, 0, 4, 0, 7, 8, 8, 2, 2, 7, 7, 2, 5, 2, 2, 5, 5, 4, 0, 3, 6, 6, 0, 8, 9, 0, 4, 7, 8, 2, 0, 9, 1, 4, 0, 8, 5, 8, 5, 1, 1, 8, 7, 7, 9, 0, 8, 7, 0, 1, 4, 2, 6, 7, 7, 4, 3, 5, 0, 9, 4, 8, 7, 6, 3, 7, 3, 6, 9, 2, 3, 0, 6, 5, 3, 3, 6, 4, 1, 7, 9, 2, 3, 5, 9, 5, 2, 5, 7, 6, 5, 0, 9, 0, 6, 0, 5, 3, 3, 8, 8, 8, 7, 7, 8, 2, 5, 9, 9, 8, 8, 9, 3, 2, 3, 5, 3, 9, 1, 0, 8, 0, 2, 3, 2, 0, 0, 9, 6, 6, 2, 4, 7, 9, 9, 5, 7, 9, 2, 4, 5, 2, 3, 5, 8, 5, 8, 4, 1, 4, 2, 9, 7, 4, 7, 5, 6, 6, 0, 1, 0, 2, 7, 9, 1, 6, 1, 5, 9, 4, 3, 7, 4, 2, 0, 7, 2, 8, 7, 0, 4, 7, 4, 6, 2, 4, 9, 1, 6, 9, 5, 5, 8, 4, 7, 6, 9, 3, 4, 3, 1, 6, 7, 9, 5, 1, 3, 1, 5, 0, 4, 6, 4, 7, 3, 7, 1, 3, 0, 1, 8, 1, 8, 9, 5, 2, 8, 7, 7, 0, 2, 3, 5, 5, 5, 5, 9, 4, 4, 0, 3, 8, 6, 4, 3, 9, 6, 2, 9, 9, 4, 0, 4, 5, 9, 8, 4, 2, 4, 7, 9, 8, 3, 9, 5, 2, 3, 0, 2, 6, 8, 5, 7, 8, 6, 4, 7, 4, 7, 8, 2, 9, 8, 3, 7, 0, 4, 8, 2, 1, 7, 9, 3, 4, 2, 7, 7, 0, 8, 2, 0, 2, 0, 1, 7, 8, 6, 5, 3, 0, 3, 6, 3, 6, 6, 7, 3, 6, 2, 7, 6, 8, 3, 6, 8, 4, 0, 2, 0, 5, 6, 0, 3, 5, 9, 1, 0, 0, 8, 7, 2, 4, 3, 9, 7, 2, 2, 3, 6, 3, 2, 8, 1, 6, 5, 7, 7, 5, 0, 1, 7, 5, 7, 0, 8, 4, 8, 0, 4, 3, 6, 8, 6, 2, 8, 3, 9, 7, 5, 4, 7, 1, 4, 2, 1, 6, 2, 9, 0, 9, 8, 2, 3, 7, 4, 5, 7, 6, 5, 1, 1, 4, 4, 3, 6, 8, 3, 8, 5, 0, 8, 1, 8, 5, 3, 6, 0, 3, 4, 4, 7, 4, 1, 7, 0, 2, 2, 4, 8, 8, 6, 6, 6, 1, 7, 2, 7, 0, 3, 0, 4, 4, 8, 7, 2, 5, 1, 3, 7, 6, 1, 4, 9, 3, 0, 1, 6, 4, 7, 8, 7, 9, 0, 4, 8, 2, 8, 8]\n",
        "\n",
        "fig, axes = plt.subplots(nrows=1, ncols=2, figsize=(8, 4))\n",
        "axes[0].hist(lst1, bins =20)\n",
        "axes[1].hist(lst2, bins =10)\n",
        "plt.show()"
      ],
      "execution_count": null,
      "outputs": [
        {
          "output_type": "display_data",
          "data": {
            "image/png": "[encoded data removed]",
            "text/plain": [
              "<Figure size 576x288 with 2 Axes>"
            ]
          },
          "metadata": {
            "needs_background": "light"
          }
        }
      ]
    },
    {
      "cell_type": "markdown",
      "metadata": {
        "id": "_iTtqFKaSDcA"
      },
      "source": [
        "##文字操作"
      ]
    },
    {
      "cell_type": "code",
      "metadata": {
        "id": "dOaq22fUgBsj"
      },
      "source": [
        "import re # regular expression library; for tokenization of words\n",
        "from collections import Counter # collections library; counter: dict subclass for counting hashable objects\n",
        "words = ['red', 'pink', 'pink', 'blue', 'blue', 'yellow', 'orange', 'blue', 'blue', 'pink']"
      ],
      "execution_count": null,
      "outputs": []
    },
    {
      "cell_type": "code",
      "metadata": {
        "colab": {
          "base_uri": "https://localhost:8080/"
        },
        "id": "gBKcrwA2SX2g",
        "outputId": "5382e1d1-4f96-4f61-ab05-291f4b1d270b"
      },
      "source": [
        "# create vocab\n",
        "vocab = set(words)\n",
        "print(vocab)\n",
        "print('count : ',len(vocab))\n",
        "\n",
        "# create vocab including word count\n",
        "counts_a = dict()\n",
        "for w in words:\n",
        "    counts_a[w] = counts_a.get(w,0)+1\n",
        "print(counts_a)\n",
        "print('count : ', len(counts_a), '\\n')\n",
        "\n",
        "# create vocab including word count using collections.Counter\n",
        "counts_b = dict()\n",
        "counts_b = Counter(words)\n",
        "print(counts_b)\n",
        "print('count : ', len(counts_b), '\\n')\n",
        "\n",
        "\n",
        "# defaultdictを使って勘定\n",
        "from collections import defaultdict\n",
        "counts_d = defaultdict(int)\n",
        "for w in words:\n",
        "    counts_d[w] += 1\n",
        "print(counts_d)\n",
        "print(dict(counts_d))\n",
        "print('count : ', len(counts_d), '\\n')\n",
        "\n"
      ],
      "execution_count": null,
      "outputs": [
        {
          "output_type": "stream",
          "text": [
            "{'yellow', 'orange', 'pink', 'red', 'blue'}\n",
            "count :  5\n",
            "{'red': 1, 'pink': 3, 'blue': 4, 'yellow': 1, 'orange': 1}\n",
            "count :  5 \n",
            "\n",
            "Counter({'blue': 4, 'pink': 3, 'red': 1, 'yellow': 1, 'orange': 1})\n",
            "count :  5 \n",
            "\n",
            "defaultdict(<class 'int'>, {'red': 1, 'pink': 3, 'blue': 4, 'yellow': 1, 'orange': 1})\n",
            "{'red': 1, 'pink': 3, 'blue': 4, 'yellow': 1, 'orange': 1}\n",
            "count :  5 \n",
            "\n"
          ],
          "name": "stdout"
        }
      ]
    },
    {
      "cell_type": "code",
      "metadata": {
        "colab": {
          "base_uri": "https://localhost:8080/"
        },
        "id": "HtKzX1o-Slc9",
        "outputId": "a0eac770-5725-423a-a574-5c8052284afe"
      },
      "source": [
        "target_word = 'yellow'\n",
        "\n",
        "# List型から探すよりも\n",
        "if target_word in words:\n",
        "    print('Find!')\n",
        "\n",
        "# Setに置き換えて探すほうが速度が速い\n",
        "words_set = set(words)\n",
        "if target_word in words_set:\n",
        "    print('Find!')\n"
      ],
      "execution_count": null,
      "outputs": [
        {
          "output_type": "stream",
          "text": [
            "Find!\n",
            "Find!\n"
          ],
          "name": "stdout"
        }
      ]
    },
    {
      "cell_type": "code",
      "metadata": {
        "colab": {
          "base_uri": "https://localhost:8080/"
        },
        "id": "XwypiJ4HLLwX",
        "outputId": "870ade99-b881-4451-9ab3-6b53ed0fb949"
      },
      "source": [
        "# 複数のdelimiter（下記は, + - /の4種類のdelimiter）でsplit\n",
        "txt = 'apple,orange+grape-banana/cherry'\n",
        "lst = re.split('[,+-/]',txt)\n",
        "print(lst)"
      ],
      "execution_count": null,
      "outputs": [
        {
          "output_type": "stream",
          "text": [
            "['apple', 'orange', 'grape', 'banana', 'cherry']\n"
          ],
          "name": "stdout"
        }
      ]
    },
    {
      "cell_type": "code",
      "metadata": {
        "colab": {
          "base_uri": "https://localhost:8080/"
        },
        "id": "sXjk9xmSPn3n",
        "outputId": "76beee8e-20e2-4c67-de5f-ad10abb7dc60"
      },
      "source": [
        "tword = tuple(words2)\n",
        "print(tword)\n",
        "print(len(tword))"
      ],
      "execution_count": null,
      "outputs": [
        {
          "output_type": "stream",
          "text": [
            "('red', 'pink', 'pink', 'blue', 'blue', 'yellow', 'orange', 'blue', 'blue', 'pink', 'end')\n",
            "11\n"
          ],
          "name": "stdout"
        }
      ]
    },
    {
      "cell_type": "code",
      "metadata": {
        "colab": {
          "base_uri": "https://localhost:8080/"
        },
        "id": "NbaWn3I5QZqD",
        "outputId": "44bc6329-8ec5-421a-ddc8-66cdb1524f5c"
      },
      "source": [
        "tword[1:3]"
      ],
      "execution_count": null,
      "outputs": [
        {
          "output_type": "execute_result",
          "data": {
            "text/plain": [
              "('pink', 'pink')"
            ]
          },
          "metadata": {
            "tags": []
          },
          "execution_count": 12
        }
      ]
    },
    {
      "cell_type": "code",
      "metadata": {
        "id": "iUdbpP6ARWwf"
      },
      "source": [
        ""
      ],
      "execution_count": null,
      "outputs": []
    },
    {
      "cell_type": "markdown",
      "metadata": {
        "id": "2-sJxrle6FEJ"
      },
      "source": [
        "#SQLite3\n",
        "RDBの操作について"
      ]
    },
    {
      "cell_type": "markdown",
      "metadata": {
        "id": "DP7yBMUNlGRS"
      },
      "source": [
        "その前にSQLiteの日時型変換について"
      ]
    },
    {
      "cell_type": "code",
      "metadata": {
        "colab": {
          "base_uri": "https://localhost:8080/"
        },
        "id": "R2aFdqaKc-2S",
        "outputId": "1a6650c0-dc9e-4f7c-d9c1-e32bf9945acf"
      },
      "source": [
        "import datetime\n",
        "\n",
        "# SQLiteのdate型はyyyy-mm-dd hh:dd:ss\n",
        "# その他のstring型の日時をこれに変える手順\n",
        "strDate_org = '03/02/2021 10:11:12'\n",
        "print(strDate_org)\n",
        "\n",
        "# strptime()の第二引数に第一引数の日時フォーマットを書いてあげる。\n",
        "datDate = datetime.datetime.strptime(strDate_org, '%m/%d/%Y %H:%M:%S')\n",
        "print(datDate)\n",
        "\n",
        "# strftime()にご所望の日時フォーマット（ここではSQLiteの指定のyyyy-mm-dd hh:dd:ss）を指定する。\n",
        "strDate = datDate.strftime('%Y-%m-%d %H:%M:%S')\n",
        "print(strDate)"
      ],
      "execution_count": null,
      "outputs": [
        {
          "output_type": "stream",
          "text": [
            "03/02/2021 10:11:12\n",
            "2021-03-02 10:11:12\n",
            "2021-03-02 10:11:12\n"
          ],
          "name": "stdout"
        }
      ]
    },
    {
      "cell_type": "code",
      "metadata": {
        "colab": {
          "base_uri": "https://localhost:8080/"
        },
        "id": "lIYdn1woOS1n",
        "outputId": "305c4d0e-3f09-4975-f066-ed925ff5b24b"
      },
      "source": [
        "# Python 3.5.2 にて動作を確認\n",
        "# sqlite3 標準モジュールをインポート\n",
        "import sqlite3\n",
        "import datetime\n",
        "import pprint\n",
        "\n",
        "# データベースファイルのパス\n",
        "dbpath = 'sample_db.sqlite'\n",
        " \n",
        "# データベース接続とカーソル生成\n",
        "conn = sqlite3.connect(dbpath)\n",
        "# 自動コミットにする場合は下記を指定（コメントアウトを解除のこと）\n",
        "# connection.isolation_level = None\n",
        "cursor = conn.cursor()\n",
        "\n",
        "cursor.execute(\"DROP TABLE IF EXISTS sample_tbl\")\n",
        "cursor.execute(\"CREATE TABLE IF NOT EXISTS sample_tbl (id INTEGER PRIMARY KEY, date DATE, name TEXT, age NUMERIC)\")"
      ],
      "execution_count": null,
      "outputs": [
        {
          "output_type": "execute_result",
          "data": {
            "text/plain": [
              "<sqlite3.Cursor at 0x7f71f070bce0>"
            ]
          },
          "metadata": {
            "tags": []
          },
          "execution_count": 2
        }
      ]
    },
    {
      "cell_type": "markdown",
      "metadata": {
        "id": "Z6z9FYmnw0ih"
      },
      "source": [
        "###決め打ちでINSERT INTOしてみる\n",
        "カラムのデータ型をCREATE TABLEのときに指定しているので、DB内ではそれぞれ自動でキャストされる。\n",
        "\n",
        "尚、SQL文全体はダブルコーテーション(\"...\")で括り、SQL文の中の文字列はシングルコーテーション('...')で括るようにしている。"
      ]
    },
    {
      "cell_type": "code",
      "metadata": {
        "colab": {
          "base_uri": "https://localhost:8080/"
        },
        "id": "kTmY9uCRrYPt",
        "outputId": "74a2e3c4-583d-4a39-8db7-4e5bb6d0a491"
      },
      "source": [
        "# INSERT\n",
        "cursor.execute(\"INSERT INTO sample_tbl(date, name, age) VALUES ('2019-12-31 00:00:00', 'hoge0', 10)\")\n",
        "cursor.execute(\"INSERT INTO sample_tbl(date, name, age) VALUES ('2020-01-01 00:00:00', 'hoge1', 20)\")\n",
        "cursor.execute(\"INSERT INTO sample_tbl(date, name, age) VALUES ('2020-01-02 00:00:00', 'hoge2', 30)\")\n",
        "cursor.execute(\"INSERT INTO sample_tbl(date, name, age) VALUES ('2020-01-03 00:00:00', 'hoge3', 40)\")"
      ],
      "execution_count": null,
      "outputs": [
        {
          "output_type": "execute_result",
          "data": {
            "text/plain": [
              "<sqlite3.Cursor at 0x7f71f070bce0>"
            ]
          },
          "metadata": {
            "tags": []
          },
          "execution_count": 3
        }
      ]
    },
    {
      "cell_type": "markdown",
      "metadata": {
        "id": "lzJa3GUExnX4"
      },
      "source": [
        "###動的にINSERT INTOしてみる\n",
        "変数渡しは下記の要領となる。?の数と変数の数は一致しておくこと。\n",
        "\n",
        " cursor.execute(\"SQL文 ?, ?, ?\", (変数1, 変数2, 変数3))\n",
        "\n",
        "2番めの()は要素を複数持つTuple型なので、?が一つしかないときは下記となる点注意 \",\"\n",
        "\n",
        " cursor.execute(\"SQL文 ?\", (変数1,))\n",
        "\n",
        "ついでにDATE型を正しくSQLite3が認識できているか、ここでは昇順・降順でソートして確認する。"
      ]
    },
    {
      "cell_type": "code",
      "metadata": {
        "colab": {
          "base_uri": "https://localhost:8080/"
        },
        "id": "HBDjcVVExmyc",
        "outputId": "fc8cffe1-ab0c-46d0-ba2c-8d9a39721869"
      },
      "source": [
        "# PythonのString型\n",
        "str_now = '2021-04-24 12:50:52'\n",
        "print(f\"string型: {type(str_now)}, {str_now}\")\n",
        "str_name = 'hoge4'\n",
        "int_age = 5\n",
        "cursor.execute(\"INSERT INTO sample_tbl(date, name, age) VALUES (?, ?, ?)\",(str_now, str_name, int_age))\n",
        "\n",
        "# Pythonのdatetime型\n",
        "dt_now = datetime.datetime.now()\n",
        "print(f\"datetime型: {type(dt_now)}, {dt_now}\")\n",
        "str_name = 'hoge5'\n",
        "int_age = 4\n",
        "cursor.execute(\"INSERT INTO sample_tbl(date, name, age) VALUES (?, ?, ?)\",(dt_now, str_name, int_age))\n",
        "\n",
        "# きちんとDATE型の大小が認識されていることがわかる。\n",
        "cursor.execute(\"SELECT * FROM sample_tbl ORDER by date DESC\")\n",
        "selected_list = cursor.fetchall()\n",
        "pprint.pprint(selected_list)"
      ],
      "execution_count": null,
      "outputs": [
        {
          "output_type": "stream",
          "text": [
            "string型: <class 'str'>, 2021-04-24 12:50:52\n",
            "datetime型: <class 'datetime.datetime'>, 2021-04-23 13:42:21.807095\n",
            "[(5, '2021-04-24 12:50:52', 'hoge4', 5),\n",
            " (6, '2021-04-23 13:42:21.807095', 'hoge5', 4),\n",
            " (4, '2020-01-03 00:00:00', 'hoge3', 40),\n",
            " (3, '2020-01-02 00:00:00', 'hoge2', 30),\n",
            " (2, '2020-01-01 00:00:00', 'hoge1', 20),\n",
            " (1, '2019-12-31 00:00:00', 'hoge0', 10)]\n"
          ],
          "name": "stdout"
        }
      ]
    },
    {
      "cell_type": "markdown",
      "metadata": {
        "id": "Zq4wd5xo9BL1"
      },
      "source": [
        "###動的にSELECT FROMしてみる"
      ]
    },
    {
      "cell_type": "code",
      "metadata": {
        "colab": {
          "base_uri": "https://localhost:8080/"
        },
        "id": "2yOelwDc9A1d",
        "outputId": "1bc64e7e-0763-4179-ae48-03eeb39df974"
      },
      "source": [
        "str_date = '2020-01-02 23:59:59'\n",
        "cursor.execute(\"SELECT name FROM sample_tbl WHERE date>?\",(str_date,))\n",
        "selected_list = cursor.fetchall()\n",
        "pprint.pprint(selected_list)   #>>> [('hoge3',), ('hoge4',), ('hoge5',)]\n",
        "\n",
        "str_name = 'hoge4'\n",
        "cursor.execute(\"SELECT age FROM sample_tbl WHERE name=?\",(str_name,))\n",
        "selected_list = cursor.fetchall()\n",
        "pprint.pprint(selected_list)   #>>> [(5,)]\n"
      ],
      "execution_count": null,
      "outputs": [
        {
          "output_type": "stream",
          "text": [
            "[('hoge3',), ('hoge4',), ('hoge5',)]\n",
            "[(5,)]\n"
          ],
          "name": "stdout"
        }
      ]
    },
    {
      "cell_type": "markdown",
      "metadata": {
        "id": "ScOyKFD-1ySX"
      },
      "source": [
        "###変数で渡せるものはDB内の変数のみ\n",
        "'?'に変数で渡せるのは、SQLite3内で変数扱いになる各rowの値のみ\n",
        "\n",
        "テーブル名やカラム名のような、固定値は変数で渡せない\n",
        "\n",
        "試しにテーブル名と、列名を変数にして'?'に渡してみると、\n",
        "\n",
        "　OperationalError: near \"?\": syntax error\n",
        "\n",
        "が発生する。"
      ]
    },
    {
      "cell_type": "code",
      "metadata": {
        "id": "DgbmXMrrzVgx"
      },
      "source": [
        "# INSERT INTO で確認\n",
        "str_table = 'sample_tbl'\n",
        "str_column = 'age'\n",
        "\n",
        "# 下記は(1),(2)ともに near \"?\": syntax error が発生する\n",
        "#(1) cursor.execute(\"INSERT INTO ?(date, name, age) VALUES (?, ?, ?)\",(str_table, dt_now, str_name, int_age))    #テーブル名は?で指定できない\n",
        "#(2) cursor.execute(\"INSERT INTO sample_tbl(date, name, ?) VALUES (?, ?, ?)\",(str_column, dt_now, str_name, int_age))   #カラム名は?で指定できない\n"
      ],
      "execution_count": null,
      "outputs": []
    },
    {
      "cell_type": "code",
      "metadata": {
        "id": "WgKx17j53hkJ"
      },
      "source": [
        "# SELECT FROM で確認\n",
        "\n",
        "# 下記は(1),(2)ともに near \"?\": syntax error が発生する\n",
        "#(1) cursor.execute(\"SELECT ? FROM sample_tbl\",(str_column, str_table))   #カラム名は?で指定できない\n",
        "#(2) cursor.execute(\"SELECT age FROM ?\",(str_column, str_table))     #テーブル名は?で指定できない\n",
        "\n",
        "selected_list = cursor.fetchall()\n",
        "pprint.pprint(selected_list)"
      ],
      "execution_count": null,
      "outputs": []
    },
    {
      "cell_type": "markdown",
      "metadata": {
        "id": "gZqzp4wp_6eW"
      },
      "source": [
        "###でも、テーブル名を変数にしているときなど渡したい\n",
        "そんなときはPythonのstring.format()を併用する。\n",
        "\n",
        " cursor.execute(\"SQL文 {0}, ?, ?, {1}, ?\".format(変数4, 変数5), (変数1, 変数2, 変数3))"
      ]
    },
    {
      "cell_type": "code",
      "metadata": {
        "colab": {
          "base_uri": "https://localhost:8080/"
        },
        "id": "BRyBJ52t4Rni",
        "outputId": "e2957e41-bf2f-47d8-c71d-97b7f0aaa9a7"
      },
      "source": [
        "str_table = 'sample_tbl'\n",
        "str_column = 'age'\n",
        "str_name = 'hoge4'\n",
        "\n",
        "#                                                           {0}         {1}          ?\n",
        "cursor.execute(\"SELECT {0} FROM {1} WHERE name=?\".format(str_column, str_table),(str_name,)) \n",
        "selected_list = cursor.fetchall()\n",
        "pprint.pprint(selected_list)   #>>> [(5,)]\n"
      ],
      "execution_count": null,
      "outputs": [
        {
          "output_type": "execute_result",
          "data": {
            "text/plain": [
              "<sqlite3.Cursor at 0x7f71f070bce0>"
            ]
          },
          "metadata": {
            "tags": []
          },
          "execution_count": 6
        }
      ]
    },
    {
      "cell_type": "code",
      "metadata": {
        "colab": {
          "base_uri": "https://localhost:8080/"
        },
        "id": "NHwu32w8zVaz",
        "outputId": "a0d644eb-5a28-4b1e-c06a-c1d7b42afedc"
      },
      "source": [
        "selected_list = cursor.fetchall()\n",
        "pprint.pprint(selected_list)"
      ],
      "execution_count": null,
      "outputs": [
        {
          "output_type": "stream",
          "text": [
            "[(5,)]\n"
          ],
          "name": "stdout"
        }
      ]
    },
    {
      "cell_type": "markdown",
      "metadata": {
        "id": "kNE-sFjhv8Dd"
      },
      "source": [
        "## DateTime型\n",
        "TableをDATE型で定義しているので、Pythonの文字列'2019-12-31 00:00:00'でINSERT INTOしても、DBではDATE型に変換される。"
      ]
    },
    {
      "cell_type": "code",
      "metadata": {
        "colab": {
          "base_uri": "https://localhost:8080/"
        },
        "id": "CA_N0AfAuGrr",
        "outputId": "88a2ac3e-5219-4b38-c384-5b0e3fd046a6"
      },
      "source": [
        "cursor.execute(\"SELECT * FROM sample_tbl ORDER by date DESC\")\n",
        "selected_list= cursor.fetchall()\n",
        "\n",
        "pprint.pprint(selected_list[0][1])"
      ],
      "execution_count": null,
      "outputs": [
        {
          "output_type": "stream",
          "text": [
            "'2021-04-24 12:50:52'\n"
          ],
          "name": "stdout"
        }
      ]
    },
    {
      "cell_type": "code",
      "metadata": {
        "colab": {
          "base_uri": "https://localhost:8080/"
        },
        "id": "Z-Kdnl3FuP9n",
        "outputId": "f8df5edc-f7cd-41e2-f06d-6316f1e5aa44"
      },
      "source": [
        "myDate = selected_list[0][1]\n",
        "print(type(myDate))"
      ],
      "execution_count": null,
      "outputs": [
        {
          "output_type": "stream",
          "text": [
            "<class 'str'>\n"
          ],
          "name": "stdout"
        }
      ]
    },
    {
      "cell_type": "markdown",
      "metadata": {
        "id": "-ARtuIsICzUm"
      },
      "source": [
        "###NULL型の扱い\n",
        "SQLite3のNULLはPythonではNoneが相当する。"
      ]
    },
    {
      "cell_type": "code",
      "metadata": {
        "id": "zZpk2_sL64yK"
      },
      "source": [
        ""
      ],
      "execution_count": null,
      "outputs": []
    },
    {
      "cell_type": "markdown",
      "metadata": {
        "id": "7kTrlxh9C_d1"
      },
      "source": [
        "###DBの閉じ方"
      ]
    },
    {
      "cell_type": "code",
      "metadata": {
        "id": "5mR-QY8C64Z0"
      },
      "source": [
        "# 保存を実行（忘れると保存されないので注意）\n",
        "conn.commit()\n",
        "\n",
        "# 接続を閉じる\n",
        "conn.close()"
      ],
      "execution_count": null,
      "outputs": []
    },
    {
      "cell_type": "code",
      "metadata": {
        "id": "L1e_5vlwK7Y2"
      },
      "source": [
        "db_doc_insert('TransID_corpus_tbl', wkarr1[0][1] ,wkarr1[-1][1] , log_table_name, transid, None, docstr)\n",
        "\n",
        "# コーパス中のドキュメントを逐次INSERTする。\n",
        "# Start date, End date, Log table name, TransID, Documents\n",
        "def db_doc_insert(corpus_table_name, strDateStart, strDateEnd, log_table_name, strID, vehicleID, strDoc):\n",
        "    global cursor\n",
        "\n",
        "    DateStart = datetime.datetime.strptime(strDateStart, '%Y-%m-%d %H:%M:%S')\n",
        "    DateEnd = datetime.datetime.strptime(strDateEnd, '%Y-%m-%d %H:%M:%S')\n",
        "    time_dlta = DateEnd - DateStart\n",
        "    time_dlta_sec = time_dlta.seconds\n",
        "\n",
        "    strDateStart = DateStart.strftime('%Y-%m-%d %H:%M:%S')\n",
        "    strDateEnd = DateEnd.strftime('%Y-%m-%d %H:%M:%S')\n",
        "\n",
        "    strInsert = \"INSERT INTO {0} (StartDate, EndDate, timeDelta, \\\n",
        "                TableName, TransID, Vehicle, strDoc) \\\n",
        "                VALUES (\\\"{1}\\\", \\\"{2}\\\", {3}, \\\"{4}\\\", \\\"{5}\\\", \\\"{6}\\\", \\\"{7}\\\")\".format(corpus_table_name, \\\n",
        "                strDateStart, strDateEnd, time_dlta_sec, log_table_name, strID, vehicleID, strDoc)\n",
        "\n",
        "    cursor.execute(strInsert)\n",
        "    connection.commit()\n",
        "\n",
        "\n",
        "\n",
        "\n",
        "\n",
        "cursor.execute(\"SELECT DISTINCT TransID FROM {0} WHERE TransID!=0 AND TransID IS NOT NULL \".format(log_table_name))\n",
        "\n",
        "\n",
        "\n",
        "\n",
        "\n",
        "\n",
        "\n",
        "        cursor.execute(\"SELECT id, Date, event_code, Kind, Enable, Result, ERR, Haisha, TransState, \\\n",
        "                        Cancel, Contents, ChangeContent, MicroStatus, NewMode, OldMode, PrgNo, ReqKind, NowKind, FromST, ToST \\\n",
        "                        FROM {0} WHERE TransID={1} AND (id<={2} AND id>={3}) \\\n",
        "                        ORDER by id DESC\".format(log_table_name, transid, idx_fst, idx_lst))\n",
        "        lst_event = cursor.fetchall()\n",
        "\n",
        "        for j in range(len(lst_event)):\n",
        "            lst_event_result.append(lst_event[j])\n",
        "\n",
        "        # DBから取り出したレコード単位に逆転させる（時刻は完全に昇順にはならない）\n",
        "        wkarr1 = np.array(lst_event_result)\n",
        "        #wkarr1 = np.array(lst_event_result[::-1])       # 操作しやすいnparray型に変換\n",
        "        #if wkarr1.shape[0] == 0:\n",
        "        #    continue\n",
        "        \n",
        "        lst2 = wkarr1[:, 2:]      # id列(0)とDate列(1)を除く\n",
        "        #lst2 = wkarr1[:,2:].tolist()\n",
        "        # NULL(None)を取り除く\n",
        "        docs = [lst2[i][j] for i in range(len(lst2)) for j in range(len(lst2[0])) if (lst2[i][j] != None and lst2[i][j] != 0)]\n",
        "\n",
        "\n",
        "\n",
        "def find_word(table_str, wkset, datdate, strEvCode):\n",
        "    wkdic = {'Date': datdate, 'event_code': strEvCode, 'TransID': None, 'CommandID': None,\n",
        "            'CarrierID': None, 'Vehicle': None, 'Kind': None, 'Enable': None,\n",
        "            'Result': None, 'ERR': None, 'Haisha': None, 'TransState': None,\n",
        "            'Cancel': None, 'Contents': None, 'ChangeContent': None, 'MicroStatus': None,\n",
        "            'NewMode': None, 'OldMode': None, 'PrgNo': None, 'ReqKind': None, 'NowKind': None, 'FromST': None, 'ToST': None}\n",
        "\n",
        "    wkdic['Date'] = datdate\n",
        "    wkdic['event_code'] = strEvCode\n",
        "\n",
        "\n",
        "\n",
        "\n",
        "\n",
        "\n",
        "    cursor.execute(\"INSERT INTO {0} (Date, event_code, TransID, CommandID, CarrierID, \\\n",
        "                Vehicle, Kind, Enable, Result, ERR, Haisha, TransState, Cancel, Contents, \\\n",
        "                ChangeContent, MicroStatus, NewMode, OldMode, PrgNo, ReqKind, NowKind, FromST, ToST) \\\n",
        "                VALUES (:Date, :event_code, :TransID, :CommandID, :CarrierID, :Vehicle, \\\n",
        "                :Kind, :Enable, :Result, :ERR, :Haisha, :TransState, :Cancel, :Contents, \\\n",
        "                :ChangeContent, :MicroStatus, :NewMode, :OldMode, :PrgNo, :ReqKind, :NowKind, :FromST, :ToST)\".format(table_str), wkdic)\n",
        "    connection.commit()\n",
        "\n",
        "\n",
        "\n",
        "\n",
        "    # # データ追加(レコード登録)　　あとで一括挿入に変更すること\n",
        "    # sql = 'insert into artoria (name, atk, hp) values (?,?,?)'\n",
        "    # data = [('artoria',11221,15150),\n",
        "    #             ('artoria alter',10248,11589),\n",
        "    #             ('artoria lily', 7726,10623),\n",
        "    #             ('artoria lancer',10995,15606),\n",
        "    #             ('artoria lancer alter',9968,11761),\n",
        "    #             ('artoria swimwear',11276,14553),\n",
        "    #             ('artoria santa alter',9258,11286),\n",
        "    #             ('mystery heroine x',11761,12696),\n",
        "    #             ('mystery heroine x alter',11113,14175)]\n",
        "    # cursor.executemany(sql, data)\n",
        "\n"
      ],
      "execution_count": null,
      "outputs": []
    },
    {
      "cell_type": "markdown",
      "metadata": {
        "id": "XTLRKgSIt_5Z"
      },
      "source": [
        "numpy arrayの行列置き換え"
      ]
    },
    {
      "cell_type": "code",
      "metadata": {
        "colab": {
          "base_uri": "https://localhost:8080/"
        },
        "id": "GGYoagx6ssOQ",
        "outputId": "963bbde7-2424-42b3-d716-a1d55c4e2bd2"
      },
      "source": [
        "lst = [i for i in range(24)]\n",
        "arr = np.array(lst).reshape(4,6)\n",
        "print(arr)"
      ],
      "execution_count": null,
      "outputs": [
        {
          "output_type": "stream",
          "text": [
            "[[ 0  1  2  3  4  5]\n",
            " [ 6  7  8  9 10 11]\n",
            " [12 13 14 15 16 17]\n",
            " [18 19 20 21 22 23]]\n"
          ],
          "name": "stdout"
        }
      ]
    },
    {
      "cell_type": "code",
      "metadata": {
        "colab": {
          "base_uri": "https://localhost:8080/"
        },
        "id": "60IgVuQms9zv",
        "outputId": "4bc0495a-3b74-4eb6-a623-66c358fd32f4"
      },
      "source": [
        "arr1 = np.swapaxes(arr, 0, 1)\n",
        "#arr1 = arr.T\n",
        "print(arr1)"
      ],
      "execution_count": null,
      "outputs": [
        {
          "output_type": "stream",
          "text": [
            "[[ 0  6 12 18]\n",
            " [ 1  7 13 19]\n",
            " [ 2  8 14 20]\n",
            " [ 3  9 15 21]\n",
            " [ 4 10 16 22]\n",
            " [ 5 11 17 23]]\n"
          ],
          "name": "stdout"
        }
      ]
    },
    {
      "cell_type": "code",
      "metadata": {
        "colab": {
          "base_uri": "https://localhost:8080/"
        },
        "id": "cY0AsTdItSt4",
        "outputId": "46c728e1-534c-4d72-d081-b9e929ed38ce"
      },
      "source": [
        "arr = np.array(lst).reshape(2,3,4)\n",
        "print(arr)"
      ],
      "execution_count": null,
      "outputs": [
        {
          "output_type": "stream",
          "text": [
            "[[[ 0  1  2  3]\n",
            "  [ 4  5  6  7]\n",
            "  [ 8  9 10 11]]\n",
            "\n",
            " [[12 13 14 15]\n",
            "  [16 17 18 19]\n",
            "  [20 21 22 23]]]\n"
          ],
          "name": "stdout"
        }
      ]
    },
    {
      "cell_type": "code",
      "metadata": {
        "colab": {
          "base_uri": "https://localhost:8080/"
        },
        "id": "3aijH0UntfIo",
        "outputId": "1bd30a44-3b26-4526-a49e-6f559aed15c0"
      },
      "source": [
        "arr1 = np.swapaxes(arr, 0, 1)\n",
        "print(arr1)\n",
        "print(f'{arr.shape} -> {arr1.shape})"
      ],
      "execution_count": null,
      "outputs": [
        {
          "output_type": "stream",
          "text": [
            "[[[ 0  1  2  3]\n",
            "  [12 13 14 15]]\n",
            "\n",
            " [[ 4  5  6  7]\n",
            "  [16 17 18 19]]\n",
            "\n",
            " [[ 8  9 10 11]\n",
            "  [20 21 22 23]]]\n",
            "(3, 2, 4)\n"
          ],
          "name": "stdout"
        }
      ]
    },
    {
      "cell_type": "code",
      "metadata": {
        "colab": {
          "base_uri": "https://localhost:8080/"
        },
        "id": "9vF3O_jz00Fq",
        "outputId": "da25f39b-2089-45e8-dd59-df031fc02294"
      },
      "source": [
        "arr2 = arr.reshape((-1, 2*3))\n",
        "print(arr2.shape)\n",
        "\n",
        "arr2 = arr.reshape((-2, 2*4))\n",
        "print(arr2.shape)"
      ],
      "execution_count": null,
      "outputs": [
        {
          "output_type": "stream",
          "text": [
            "(4, 6)\n",
            "(3, 8)\n"
          ],
          "name": "stdout"
        }
      ]
    },
    {
      "cell_type": "markdown",
      "metadata": {
        "id": "Oy1zeyXYKOtR"
      },
      "source": [
        "## たまに使ってイラっとする正規表現\n",
        "\n",
        "reのメソッド(findall()やsearch())の引数は\n",
        "\n",
        "(r'正規表現', 対象文字列)\n",
        "\n",
        "の2つであること。rは正規表現であることを宣言するが無くても動く。\n",
        "\n",
        "\n",
        "https://docs.python.org/ja/3/library/re.html?highlight=start\n",
        "\n",
        "特殊文字は\\でエスケープする。\n",
        "戻りはlist型の要素として返る。"
      ]
    },
    {
      "cell_type": "code",
      "metadata": {
        "id": "1FILuxZjKOWL"
      },
      "source": [
        "import re"
      ],
      "execution_count": null,
      "outputs": []
    },
    {
      "cell_type": "code",
      "metadata": {
        "colab": {
          "base_uri": "https://localhost:8080/"
        },
        "id": "tA6LmQsgk02L",
        "outputId": "dda76f02-c500-4491-8519-2f7eafdf708f"
      },
      "source": [
        "# 特定の文字が含まれるか否かNoneで判定する\n",
        "# 以下は文字列がlist形式なのか判定する例\n",
        "wkstr = \"['P4D78EB825618', 'P4D78C6625617', 'P4D79A7025626', 'P4D7A46325665', 'P4D7A47325666', 'P4D7A65725668', 'P4D7A44425658']\"\n",
        "#wkstr = \"['03/02/2021 22:54:45', '03/02/2021 22:54:55', '03/02/2021 09:39:23', '03/02/2021 22:40:05', '03/02/2021 22:40:05', '03/02/2021 22:40:02']\"\n",
        "#m = re.match(r'\\[[A-Z0-9a-z,. -e\\'\\+]+\\]', wkstr)\n",
        "m = re.findall(r'\\[[A-Z0-9a-z,. -e/:\\'\\+]+\\]', wkstr)\n",
        "if m == None:\n",
        "    print('nai!')\n",
        "else:\n",
        "    print(m)\n",
        "    wkstr = m[0]\n",
        "    wklst = wkstr.split(', ')\n",
        "    for i in range(len(wklst)):\n",
        "        #print(wklst[i])\n",
        "        m = re.findall(r'[A-Z0-9a-z /:]+', wklst[i])[0]\n",
        "        \n",
        "        print(m)\n",
        "        #print(wklst[i])\n",
        "    #m = re.findall(r'', wkstr)\n",
        "    #print('ari!')"
      ],
      "execution_count": null,
      "outputs": [
        {
          "output_type": "stream",
          "text": [
            "[\"['P4D78EB825618', 'P4D78C6625617', 'P4D79A7025626', 'P4D7A46325665', 'P4D7A47325666', 'P4D7A65725668', 'P4D7A44425658']\"]\n",
            "P4D78EB825618\n",
            "P4D78C6625617\n",
            "P4D79A7025626\n",
            "P4D7A46325665\n",
            "P4D7A47325666\n",
            "P4D7A65725668\n",
            "P4D7A44425658\n"
          ],
          "name": "stdout"
        }
      ]
    },
    {
      "cell_type": "code",
      "metadata": {
        "colab": {
          "base_uri": "https://localhost:8080/"
        },
        "id": "ItzzhaocKdQn",
        "outputId": "74613cf5-47f0-4ed7-b7f8-6b273284c033"
      },
      "source": [
        "# HogeIDの右辺\"121345\"を抜き取りたい\n",
        "wkstr = 'hoge1 HogeID=121345 hoge2'\n",
        "m = re.findall(r'HogeID=[a-zA-Z0-9]', wkstr)\n",
        "if m == None:\n",
        "    print('no!')\n",
        "else:\n",
        "    print(m)\n",
        "# >>> ['HogeID=1'] なぜなら[a-zA-Z0-9]は数字大小アルファベットの1文字しか探さない"
      ],
      "execution_count": null,
      "outputs": [
        {
          "output_type": "stream",
          "text": [
            "['HogeID=1']\n"
          ],
          "name": "stdout"
        }
      ]
    },
    {
      "cell_type": "code",
      "metadata": {
        "colab": {
          "base_uri": "https://localhost:8080/"
        },
        "id": "w4PYiBRhKc6I",
        "outputId": "5b830381-a60c-49d0-ab68-15de5b6b51f3"
      },
      "source": [
        "m = re.findall(r'HogeID=[a-zA-Z0-9]+', wkstr)\n",
        "print(m)\n",
        "# >>> ['HogeID=121345'] +を付けて、[a-zA-Z0-9]+ とすると数字大小アルファベットが連続する限り、複数探してくれる"
      ],
      "execution_count": null,
      "outputs": [
        {
          "output_type": "stream",
          "text": [
            "['HogeID=121345']\n"
          ],
          "name": "stdout"
        }
      ]
    },
    {
      "cell_type": "code",
      "metadata": {
        "colab": {
          "base_uri": "https://localhost:8080/"
        },
        "id": "JpnGafbXMQXJ",
        "outputId": "77d03b6f-51b1-47fc-8562-b83832b1ebde"
      },
      "source": [
        "# HogeIDの右辺\"121345-100Z\"を抜き取りたい\n",
        "wkstr = 'hoge1 HogeID=121345-100Z hoge2'\n",
        "m = re.findall(r'HogeID=[a-zA-Z0-9]+', wkstr)\n",
        "print(m)\n",
        "# >>> ['HogeID=121345']　何故なら途中の\"-\"は数字大小アルファベットではないので途中で途切れた"
      ],
      "execution_count": null,
      "outputs": [
        {
          "output_type": "stream",
          "text": [
            "['HogeID=121345']\n"
          ],
          "name": "stdout"
        }
      ]
    },
    {
      "cell_type": "code",
      "metadata": {
        "colab": {
          "base_uri": "https://localhost:8080/"
        },
        "id": "fIOams1bMQLe",
        "outputId": "ccb1b939-c6b0-4527-c244-3f579c5744a9"
      },
      "source": [
        "m = re.findall(r'HogeID=[a-zA-Z0-9-]+', wkstr)\n",
        "print(m)\n",
        "# >>> ['HogeID=121345-100Z'] [a-zA-Z0-9]の中に含めたい文字（この場合\"-\"）を入れ、[a-zA-Z0-9-]としたから。"
      ],
      "execution_count": null,
      "outputs": [
        {
          "output_type": "stream",
          "text": [
            "['HogeID=121345-100Z']\n"
          ],
          "name": "stdout"
        }
      ]
    },
    {
      "cell_type": "code",
      "metadata": {
        "colab": {
          "base_uri": "https://localhost:8080/"
        },
        "id": "n8xfuualMQDP",
        "outputId": "1945893a-3bf7-47df-cf99-dc93f8ac8f58"
      },
      "source": [
        "# HogeIDの右辺\"121345[100Z]\"を抜き取りたい\n",
        "wkstr = 'hoge1 HogeID=121345[100Z] hoge2'\n",
        "m = re.findall(r'HogeID=[a-zA-Z0-9[]]+', wkstr)\n",
        "print(m)\n",
        "# >>> []　含めたい文字\"[]\"を入れて[a-zA-Z0-9[]]としたが、戻りがなかった"
      ],
      "execution_count": null,
      "outputs": [
        {
          "output_type": "stream",
          "text": [
            "[]\n"
          ],
          "name": "stdout"
        }
      ]
    },
    {
      "cell_type": "code",
      "metadata": {
        "colab": {
          "base_uri": "https://localhost:8080/"
        },
        "id": "p6TeN9XQNnwh",
        "outputId": "bc406e69-16d9-4564-eaef-00a650142f29"
      },
      "source": [
        "m = re.findall(r'HogeID=[a-zA-Z0-9\\[\\]]+', wkstr)\n",
        "print(m)\n",
        "# >>> ['HogeID=121345[100Z]']　\"[\", \"]\", \"\\\", \"+\"などの特殊文字は\\でエスケープしなければならないから。"
      ],
      "execution_count": null,
      "outputs": [
        {
          "output_type": "stream",
          "text": [
            "['HogeID=121345[100Z]']\n"
          ],
          "name": "stdout"
        }
      ]
    },
    {
      "cell_type": "code",
      "metadata": {
        "colab": {
          "base_uri": "https://localhost:8080/"
        },
        "id": "PYzthU3U0WlU",
        "outputId": "1efafda5-0d81-4d7c-d1e4-f2aefd5b40d5"
      },
      "source": [
        "s_line = 'hoge900 hogeE550020220101 Error'\n",
        "s_line = re.sub(r\"[0-9]+(?=\\D+E[0-9]{4})\", \"\", s_line)\n",
        "print(s_line)\n",
        "s_line = re.sub(r\"(?<=E[0-9]{4})[0-9]+\", \"\", s_line)\n",
        "print(s_line) # hoge hogeE5500 Error"
      ],
      "execution_count": null,
      "outputs": [
        {
          "output_type": "stream",
          "text": [
            "hoge hogeE550020220101 Error\n",
            "hoge hogeE5500 Error\n"
          ],
          "name": "stdout"
        }
      ]
    },
    {
      "cell_type": "code",
      "metadata": {
        "colab": {
          "base_uri": "https://localhost:8080/"
        },
        "id": "_K06zd3EwZYr",
        "outputId": "c56319f3-e10d-457b-c3d2-5d0571ce1d40"
      },
      "source": [
        "s_line = 'hoge900 hoge E550020220101 Error100'\n",
        "s_line = re.sub(r\"[0-9]+(?=\\D+E[0-9]{4})\", \"\", s_line)\n",
        "print(s_line)\n",
        "s_line = re.sub(r\"(?<=E[0-9]{4})[0-9]+\", \"\", s_line)\n",
        "print(s_line)\n"
      ],
      "execution_count": null,
      "outputs": [
        {
          "output_type": "stream",
          "text": [
            "hoge hoge E550020220101 Error100\n",
            "hoge hoge E5500 Error100\n"
          ],
          "name": "stdout"
        }
      ]
    },
    {
      "cell_type": "code",
      "metadata": {
        "colab": {
          "base_uri": "https://localhost:8080/"
        },
        "id": "jg93mh3kskkL",
        "outputId": "87ae5c13-2cd9-4d28-b437-80a1f94d8a25"
      },
      "source": [
        "s_line = 'hoge900 hogeE550020220101 Error'\n",
        "s_line = re.sub(r\"\\d+(?=\\D+E\\d{4})\\d+\", \"\", s_line)\n",
        "print(s_line)\n",
        "s_line = re.sub(r\"(?<=E\\d{4}).*\\d+\", \"\", s_line)\n",
        "print(s_line)"
      ],
      "execution_count": null,
      "outputs": [
        {
          "output_type": "stream",
          "text": [
            "hoge900 hogeE5500 20220101 Error\n",
            "hoge900 hogeE5500 Error\n"
          ],
          "name": "stdout"
        }
      ]
    },
    {
      "cell_type": "code",
      "metadata": {
        "colab": {
          "base_uri": "https://localhost:8080/"
        },
        "id": "d3wEZazxZY_w",
        "outputId": "c97779e2-3d44-40ea-ff8a-a2fb459a16b3"
      },
      "source": [
        "s_line = 'OHVCv9.00 OHVC ohvC C550020220101Error'\n",
        "\n",
        "s_line = re.sub(r\"v[0-9.]+\", \"\", s_line)\n",
        "#s_line = re.sub(r\"C[0-9]{4}\", \"\", s_line)\n",
        "#s_line = re.sub(r\"(?!C[0-9]{4})(?=[0-9]+)\", \"\", s_line)\n",
        "\n",
        "\n",
        "print(s_line)"
      ],
      "execution_count": null,
      "outputs": [
        {
          "output_type": "stream",
          "text": [
            "OHVC OHVC ohvC C550020220101Error\n"
          ],
          "name": "stdout"
        }
      ]
    },
    {
      "cell_type": "code",
      "metadata": {
        "colab": {
          "base_uri": "https://localhost:8080/"
        },
        "id": "bCxVkyjKYymp",
        "outputId": "9e33b5db-18e4-42b8-a14b-5c22dd098d54"
      },
      "source": [
        "# ある都合（DB tableに不変長のカラムを入れたくなかったので文字列でリスト型を入れた事情）でリストっぽい文字列をリストに戻す\n",
        "wkstr = \"[-0.044205572, -1.2453749999844327e-07, -0.10175104, 0.010703268, 0.02381724, 0.013786856, 0.0029407921, 0.019094938, -0.042097766, 0.042643577, 0.036146052, 0.0036818758, -0.04694261, -0.0155953085, 0.036810145, -0.035797343, -0.023494788, 0.081627734, -0.082732804, 0.011730535]\"\n",
        "m = re.findall(r'[.a-zA-Z0-9-]+', wkstr)\n",
        "print(m)\n",
        "wkfloat = list(float(m[i]) for i in range(len(m)))\n",
        "print(wkfloat)"
      ],
      "execution_count": null,
      "outputs": [
        {
          "output_type": "stream",
          "text": [
            "['-0.044205572', '-1.2453749999844327e-07', '-0.10175104', '0.010703268', '0.02381724', '0.013786856', '0.0029407921', '0.019094938', '-0.042097766', '0.042643577', '0.036146052', '0.0036818758', '-0.04694261', '-0.0155953085', '0.036810145', '-0.035797343', '-0.023494788', '0.081627734', '-0.082732804', '0.011730535']\n",
            "[-0.044205572, -1.2453749999844327e-07, -0.10175104, 0.010703268, 0.02381724, 0.013786856, 0.0029407921, 0.019094938, -0.042097766, 0.042643577, 0.036146052, 0.0036818758, -0.04694261, -0.0155953085, 0.036810145, -0.035797343, -0.023494788, 0.081627734, -0.082732804, 0.011730535]\n"
          ],
          "name": "stdout"
        }
      ]
    },
    {
      "cell_type": "code",
      "metadata": {
        "colab": {
          "base_uri": "https://localhost:8080/"
        },
        "id": "3jc805taZjw8",
        "outputId": "5b5deeb5-fd7a-4f9d-a680-bf485e171f4e"
      },
      "source": [
        "param = {}\n",
        "param[0] = [50, 5]\n",
        "param[1] = [50, 5]\n",
        "param[2] = [50, 5]\n",
        "print(len(param))\n",
        "print(param[0][0])"
      ],
      "execution_count": null,
      "outputs": [
        {
          "output_type": "stream",
          "text": [
            "3\n",
            "50\n"
          ],
          "name": "stdout"
        }
      ]
    },
    {
      "cell_type": "markdown",
      "metadata": {
        "id": "FlJUAE2Kzhf2"
      },
      "source": [
        "###UMAP\n",
        "手書き文字などは2次元なので早いだろうが、トピック次元は大きいので描画速度はt-SNEとあまり変わらない。少し早い程度\n",
        "\n",
        "それよりもimport umapに1分弱かかり、イライラする。"
      ]
    },
    {
      "cell_type": "code",
      "metadata": {
        "id": "AbhMWYl_N4uG"
      },
      "source": [
        "!pip install umap-learn\n",
        "\n",
        "import numpy as np\n",
        "from sklearn.datasets import load_digits\n",
        "import matplotlib.pyplot as plt\n",
        "import umap\n",
        "\n",
        "# Digitsで試す\n",
        "digits = load_digits()\n",
        "\n",
        "# umapで2次元に削減\n",
        "reducer = umap.UMAP(random_state=42)\n",
        "reducer.fit(digits.data)\n",
        "embedding = reducer.transform(digits.data)\n",
        "\n",
        "# plot\n",
        "plt.scatter(embedding[:, 0], embedding[:, 1], c=digits.target, cmap='Spectral', s=5)\n",
        "plt.gca().set_aspect('equal', 'datalim')\n",
        "plt.colorbar(boundaries=np.arange(11)-0.5).set_ticks(np.arange(10))\n",
        "plt.title('UMAP projection of the Digits dataset', fontsize=24);\n",
        "plt.show()"
      ],
      "execution_count": null,
      "outputs": []
    }
  ]
}